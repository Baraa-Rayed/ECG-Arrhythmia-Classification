{
  "cells": [
    {
      "cell_type": "markdown",
      "metadata": {
        "id": "view-in-github",
        "colab_type": "text"
      },
      "source": [
        "<a href=\"https://colab.research.google.com/github/Baraa-Rayed/ECG-Arrhythmia-Classification/blob/main/ECG_Arrhythmia_Classification.ipynb\" target=\"_parent\"><img src=\"https://colab.research.google.com/assets/colab-badge.svg\" alt=\"Open In Colab\"/></a>"
      ]
    },
    {
      "cell_type": "code",
      "execution_count": null,
      "metadata": {
        "id": "yASw5gpJ_eK4"
      },
      "outputs": [],
      "source": [
        "from google.colab import drive\n",
        "drive.mount('/content/drive')"
      ]
    },
    {
      "cell_type": "code",
      "execution_count": null,
      "metadata": {
        "id": "f9y4BI10KmJ_"
      },
      "outputs": [],
      "source": [
        "import glob\n",
        "from tensorflow.keras.preprocessing import image"
      ]
    },
    {
      "cell_type": "markdown",
      "metadata": {
        "id": "sHsHhI-MrolH"
      },
      "source": [
        "Loading MIT-BIH Databasse"
      ]
    },
    {
      "cell_type": "code",
      "execution_count": null,
      "metadata": {
        "id": "Z2lOiLpqt2uo"
      },
      "outputs": [],
      "source": [
        "!pip install wfdb wget"
      ]
    },
    {
      "cell_type": "code",
      "execution_count": null,
      "metadata": {
        "id": "5Mq8r_q06GAs"
      },
      "outputs": [],
      "source": [
        "import os\n",
        "import wfdb\n",
        "wfdb.dl_database('ludb', os.path.join(os.getcwd(), 'ludb'))"
      ]
    },
    {
      "cell_type": "code",
      "execution_count": null,
      "metadata": {
        "id": "-7UkWyv9rvSM"
      },
      "outputs": [],
      "source": [
        "import os\n",
        "import wfdb\n",
        "wfdb.dl_database('mitdb', os.path.join(os.getcwd(), 'mitdb'))"
      ]
    },
    {
      "cell_type": "code",
      "execution_count": null,
      "metadata": {
        "id": "StRZTTrMnbZD"
      },
      "outputs": [],
      "source": [
        "import glob\n",
        "import re\n",
        "import os\n",
        "from pathlib import Path\n",
        "name = []\n",
        "ecg_path = glob.glob('/content/mitdb/*.hea')\n",
        "for i in list(ecg_path):\n",
        "  if i.endswith('.hea'):\n",
        "    match = re.search(r'\\d+', os.path.splitext(i)[0])\n",
        "    if match:\n",
        "      number = match.group()\n",
        "    print(number)\n",
        "#   z = i[-7:-4]\n",
        "#   name.append(z)\n",
        "# print(name)"
      ]
    },
    {
      "cell_type": "code",
      "execution_count": null,
      "metadata": {
        "id": "m_7IepwuwyZ2"
      },
      "outputs": [],
      "source": [
        "for i in list(ecg_path):\n",
        "  record = wfdb.rdrecord(f'{i[:-4]}', sampto=3000)\n",
        "  annotation = wfdb.rdann(f'{i[:-4]}', 'avf', sampto=1000)\n",
        "  wfdb.plot_wfdb(record=record, annotation=annotation, plot_sym=True,\n",
        "                  time_units='seconds', title='MIT-BIH Record 234',\n",
        "                  figsize=(10,4), ecg_grids='all')"
      ]
    },
    {
      "cell_type": "code",
      "execution_count": null,
      "metadata": {
        "colab": {
          "base_uri": "https://localhost:8080/"
        },
        "id": "dm9G_JvuqXn7",
        "outputId": "00c1b068-291f-4de5-83b1-e2937ccdd5c4"
      },
      "outputs": [
        {
          "output_type": "stream",
          "name": "stdout",
          "text": [
            "V1 [10/10]"
          ]
        }
      ],
      "source": [
        "from sklearn.preprocessing import scale\n",
        "import numpy as np\n",
        "import matplotlib.pyplot as plt\n",
        "import cv2\n",
        "import os.path as osp\n",
        "for i in list(ecg_path):\n",
        "  z = i[-7:-4]\n",
        "  names = osp.basename(z)\n",
        "mode = 128\n",
        "image_size = (128,128)\n",
        "output = \"/content/drive/MyDrive/mitdb_data\"\n",
        "def plot(signal, filename):\n",
        "    plt.figure(figsize=(12,8), frameon=False)\n",
        "    plt.axis(\"off\")\n",
        "    plt.subplots_adjust(top=1, bottom=0, right=1, left=0, hspace=0, wspace=0)\n",
        "    # plt.margins(0, 0) # use for generation images with no margin\n",
        "    plt.plot(signal)\n",
        "    plt.savefig(filename)\n",
        "\n",
        "    plt.close()\n",
        "\n",
        "    im_gray = cv2.imread(filename, cv2.IMREAD_GRAYSCALE)\n",
        "    im_gray = cv2.resize(im_gray, image_size, interpolation=cv2.INTER_LANCZOS4)\n",
        "    cv2.imwrite(filename, im_gray)\n",
        "for i in list(ecg_path):\n",
        "  z = i[-7:-4]\n",
        "  names = osp.basename(z)\n",
        "  record = wfdb.rdrecord(f'{i[:-4]}', sampto=3000)\n",
        "  annotation = wfdb.rdann(f'{i[:-4]}', 'atr', sampto=3000)\n",
        "  for sig_name, signal in zip(record.sig_name, record.p_signal.T):\n",
        "        if not np.all(np.isfinite(signal)):\n",
        "            continue\n",
        "        signal = scale(signal)\n",
        "        for i, (label, peak) in enumerate(zip(annotation.symbol, annotation.sample)):\n",
        "            if label == \"/\":\n",
        "                label = \"\\\\\"\n",
        "            print(\"\\r{} [{}/{}]\".format(sig_name, i + 1, len(annotation.symbol)), end=\"\")\n",
        "            if isinstance(mode, list):\n",
        "                if np.all([i > 0, i + 1 < len(annotation.sample)]):\n",
        "                    left = annotation.sample[i - 1] + mode[0]\n",
        "                    right = annotation.sample[i + 1] - mode[1]\n",
        "                else:\n",
        "                    continue\n",
        "            elif isinstance(mode, int):\n",
        "                left, right = peak - mode // 2, peak + mode // 2\n",
        "            else:\n",
        "                raise Exception(\"Wrong mode in script beginning\")\n",
        "            if np.all([left > 0, right < len(signal)]):\n",
        "                one_dim_data_dir = osp.join(output, \"1D\", names, sig_name, label)\n",
        "                two_dim_data_dir = osp.join(output, \"2D\", names, sig_name, label)\n",
        "\n",
        "                os.makedirs(one_dim_data_dir, exist_ok=True)\n",
        "                os.makedirs(two_dim_data_dir, exist_ok=True)\n",
        "\n",
        "                filename = osp.join(one_dim_data_dir, \"{}.npy\".format(peak))\n",
        "                np.save(filename, signal[left:right])\n",
        "                filename = osp.join(two_dim_data_dir, \"{}.png\".format(peak))\n",
        "\n",
        "                plot(signal[left:right], filename)"
      ]
    },
    {
      "cell_type": "code",
      "execution_count": null,
      "metadata": {
        "id": "L2SNub86E1EJ"
      },
      "outputs": [],
      "source": [
        "import json\n",
        "import os.path as osp\n",
        "from glob import glob\n",
        "\n",
        "import pandas as pd\n",
        "\n",
        "# 1. N - Normal\n",
        "# 2. V - PVC (Premature ventricular contraction)\n",
        "# 3. \\ - PAB (Paced beat)\n",
        "# 4. R - RBB (Right bundle branch)\n",
        "# 5. L - LBB (Left bundle branch)\n",
        "# 6. A - APB (Atrial premature beat)\n",
        "# 7. ! - AFW (Ventricular flutter wave)\n",
        "# 8. E - VEB (Ventricular escape beat)\n",
        "\n",
        "classes = [\"N\", \"V\", \"\\\\\", \"R\", \"L\", \"A\", \"!\", \"E\"]\n",
        "lead = \"MLII\"\n",
        "extension = \"png\"  # or `npy` for 1D\n",
        "data_path = osp.abspath(\"/content/drive/MyDrive/mitdb_data/*/*/*/*/*.{}\".format(extension))\n",
        "val_size = 0.1  # [0, 1]\n",
        "\n",
        "output_path = \"/\".join(data_path.split(\"/\")[:-5])\n",
        "\n",
        "random_state = 7\n",
        "\n",
        "dataset = []\n",
        "files = glob(data_path)\n",
        "\n",
        "for file in glob(data_path):\n",
        "    *_, name, lead, label, filename = file.split(\"/\")\n",
        "    dataset.append(\n",
        "        {\n",
        "            \"name\": name,\n",
        "            \"lead\": lead,\n",
        "            \"label\": label,\n",
        "            \"filename\": osp.splitext(filename)[0],\n",
        "            \"path\": file,\n",
        "        },\n",
        "    )\n",
        "\n",
        "\n",
        "data = pd.DataFrame(dataset)\n",
        "data = data[data[\"lead\"] == lead]\n",
        "data = data[data[\"label\"].isin(classes)]\n",
        "data = data.sample(frac=1, random_state=random_state)\n",
        "\n",
        "val_ids = []\n",
        "for cl in classes:\n",
        "    val_ids.extend(\n",
        "        data[data[\"label\"] == cl]\n",
        "        .sample(frac=val_size, random_state=random_state)\n",
        "        .index,\n",
        "    )\n",
        "\n",
        "val = data.loc[val_ids, :]\n",
        "train = data[~data.index.isin(val.index)]\n",
        "\n",
        "train.to_json(osp.join(output_path, \"train.json\"), orient=\"records\")\n",
        "val.to_json(osp.join(output_path, \"val.json\"), orient=\"records\")\n",
        "\n",
        "d = {}\n",
        "for label in train.label.unique():\n",
        "    d[label] = len(d)\n",
        "\n",
        "with open(osp.join(output_path, \"class-mapper.json\"), \"w\") as file:\n",
        "    file.write(json.dumps(d, indent=1))"
      ]
    },
    {
      "cell_type": "code",
      "execution_count": null,
      "metadata": {
        "colab": {
          "base_uri": "https://localhost:8080/",
          "height": 206
        },
        "id": "8u3if15spo-E",
        "outputId": "8d1db2fe-8a59-4f46-e6c1-e083f6c55dca"
      },
      "outputs": [
        {
          "output_type": "execute_result",
          "data": {
            "text/plain": [
              "   name lead label  filename  \\\n",
              "0   105   V1     N       197   \n",
              "1   112   V1     N      1393   \n",
              "2   116   V1     N      1909   \n",
              "3   221   V1     V      2520   \n",
              "4   105   V1     N      2015   \n",
              "\n",
              "                                                path  \n",
              "0  /content/drive/MyDrive/mitdb_data/2D/105/V1/N/...  \n",
              "1  /content/drive/MyDrive/mitdb_data/2D/112/V1/N/...  \n",
              "2  /content/drive/MyDrive/mitdb_data/2D/116/V1/N/...  \n",
              "3  /content/drive/MyDrive/mitdb_data/2D/221/V1/V/...  \n",
              "4  /content/drive/MyDrive/mitdb_data/2D/105/V1/N/...  "
            ],
            "text/html": [
              "\n",
              "  <div id=\"df-701fcb31-4d2f-47f7-a25c-db7424b1ca0a\">\n",
              "    <div class=\"colab-df-container\">\n",
              "      <div>\n",
              "<style scoped>\n",
              "    .dataframe tbody tr th:only-of-type {\n",
              "        vertical-align: middle;\n",
              "    }\n",
              "\n",
              "    .dataframe tbody tr th {\n",
              "        vertical-align: top;\n",
              "    }\n",
              "\n",
              "    .dataframe thead th {\n",
              "        text-align: right;\n",
              "    }\n",
              "</style>\n",
              "<table border=\"1\" class=\"dataframe\">\n",
              "  <thead>\n",
              "    <tr style=\"text-align: right;\">\n",
              "      <th></th>\n",
              "      <th>name</th>\n",
              "      <th>lead</th>\n",
              "      <th>label</th>\n",
              "      <th>filename</th>\n",
              "      <th>path</th>\n",
              "    </tr>\n",
              "  </thead>\n",
              "  <tbody>\n",
              "    <tr>\n",
              "      <th>0</th>\n",
              "      <td>105</td>\n",
              "      <td>V1</td>\n",
              "      <td>N</td>\n",
              "      <td>197</td>\n",
              "      <td>/content/drive/MyDrive/mitdb_data/2D/105/V1/N/...</td>\n",
              "    </tr>\n",
              "    <tr>\n",
              "      <th>1</th>\n",
              "      <td>112</td>\n",
              "      <td>V1</td>\n",
              "      <td>N</td>\n",
              "      <td>1393</td>\n",
              "      <td>/content/drive/MyDrive/mitdb_data/2D/112/V1/N/...</td>\n",
              "    </tr>\n",
              "    <tr>\n",
              "      <th>2</th>\n",
              "      <td>116</td>\n",
              "      <td>V1</td>\n",
              "      <td>N</td>\n",
              "      <td>1909</td>\n",
              "      <td>/content/drive/MyDrive/mitdb_data/2D/116/V1/N/...</td>\n",
              "    </tr>\n",
              "    <tr>\n",
              "      <th>3</th>\n",
              "      <td>221</td>\n",
              "      <td>V1</td>\n",
              "      <td>V</td>\n",
              "      <td>2520</td>\n",
              "      <td>/content/drive/MyDrive/mitdb_data/2D/221/V1/V/...</td>\n",
              "    </tr>\n",
              "    <tr>\n",
              "      <th>4</th>\n",
              "      <td>105</td>\n",
              "      <td>V1</td>\n",
              "      <td>N</td>\n",
              "      <td>2015</td>\n",
              "      <td>/content/drive/MyDrive/mitdb_data/2D/105/V1/N/...</td>\n",
              "    </tr>\n",
              "  </tbody>\n",
              "</table>\n",
              "</div>\n",
              "      <button class=\"colab-df-convert\" onclick=\"convertToInteractive('df-701fcb31-4d2f-47f7-a25c-db7424b1ca0a')\"\n",
              "              title=\"Convert this dataframe to an interactive table.\"\n",
              "              style=\"display:none;\">\n",
              "        \n",
              "  <svg xmlns=\"http://www.w3.org/2000/svg\" height=\"24px\"viewBox=\"0 0 24 24\"\n",
              "       width=\"24px\">\n",
              "    <path d=\"M0 0h24v24H0V0z\" fill=\"none\"/>\n",
              "    <path d=\"M18.56 5.44l.94 2.06.94-2.06 2.06-.94-2.06-.94-.94-2.06-.94 2.06-2.06.94zm-11 1L8.5 8.5l.94-2.06 2.06-.94-2.06-.94L8.5 2.5l-.94 2.06-2.06.94zm10 10l.94 2.06.94-2.06 2.06-.94-2.06-.94-.94-2.06-.94 2.06-2.06.94z\"/><path d=\"M17.41 7.96l-1.37-1.37c-.4-.4-.92-.59-1.43-.59-.52 0-1.04.2-1.43.59L10.3 9.45l-7.72 7.72c-.78.78-.78 2.05 0 2.83L4 21.41c.39.39.9.59 1.41.59.51 0 1.02-.2 1.41-.59l7.78-7.78 2.81-2.81c.8-.78.8-2.07 0-2.86zM5.41 20L4 18.59l7.72-7.72 1.47 1.35L5.41 20z\"/>\n",
              "  </svg>\n",
              "      </button>\n",
              "      \n",
              "  <style>\n",
              "    .colab-df-container {\n",
              "      display:flex;\n",
              "      flex-wrap:wrap;\n",
              "      gap: 12px;\n",
              "    }\n",
              "\n",
              "    .colab-df-convert {\n",
              "      background-color: #E8F0FE;\n",
              "      border: none;\n",
              "      border-radius: 50%;\n",
              "      cursor: pointer;\n",
              "      display: none;\n",
              "      fill: #1967D2;\n",
              "      height: 32px;\n",
              "      padding: 0 0 0 0;\n",
              "      width: 32px;\n",
              "    }\n",
              "\n",
              "    .colab-df-convert:hover {\n",
              "      background-color: #E2EBFA;\n",
              "      box-shadow: 0px 1px 2px rgba(60, 64, 67, 0.3), 0px 1px 3px 1px rgba(60, 64, 67, 0.15);\n",
              "      fill: #174EA6;\n",
              "    }\n",
              "\n",
              "    [theme=dark] .colab-df-convert {\n",
              "      background-color: #3B4455;\n",
              "      fill: #D2E3FC;\n",
              "    }\n",
              "\n",
              "    [theme=dark] .colab-df-convert:hover {\n",
              "      background-color: #434B5C;\n",
              "      box-shadow: 0px 1px 3px 1px rgba(0, 0, 0, 0.15);\n",
              "      filter: drop-shadow(0px 1px 2px rgba(0, 0, 0, 0.3));\n",
              "      fill: #FFFFFF;\n",
              "    }\n",
              "  </style>\n",
              "\n",
              "      <script>\n",
              "        const buttonEl =\n",
              "          document.querySelector('#df-701fcb31-4d2f-47f7-a25c-db7424b1ca0a button.colab-df-convert');\n",
              "        buttonEl.style.display =\n",
              "          google.colab.kernel.accessAllowed ? 'block' : 'none';\n",
              "\n",
              "        async function convertToInteractive(key) {\n",
              "          const element = document.querySelector('#df-701fcb31-4d2f-47f7-a25c-db7424b1ca0a');\n",
              "          const dataTable =\n",
              "            await google.colab.kernel.invokeFunction('convertToInteractive',\n",
              "                                                     [key], {});\n",
              "          if (!dataTable) return;\n",
              "\n",
              "          const docLinkHtml = 'Like what you see? Visit the ' +\n",
              "            '<a target=\"_blank\" href=https://colab.research.google.com/notebooks/data_table.ipynb>data table notebook</a>'\n",
              "            + ' to learn more about interactive tables.';\n",
              "          element.innerHTML = '';\n",
              "          dataTable['output_type'] = 'display_data';\n",
              "          await google.colab.output.renderOutput(dataTable, element);\n",
              "          const docLink = document.createElement('div');\n",
              "          docLink.innerHTML = docLinkHtml;\n",
              "          element.appendChild(docLink);\n",
              "        }\n",
              "      </script>\n",
              "    </div>\n",
              "  </div>\n",
              "  "
            ]
          },
          "metadata": {},
          "execution_count": 11
        }
      ],
      "source": [
        "import os\n",
        "import os.path as osp\n",
        "from glob import glob\n",
        "import pandas as pd\n",
        "import seaborn as sns\n",
        "\n",
        "from sklearn.model_selection import train_test_split\n",
        "from pylab import rcParams\n",
        "import json\n",
        "import matplotlib.pyplot as plt\n",
        "\n",
        "rcParams['figure.figsize'] = 8, 5\n",
        "train = pd.read_json('/content/drive/MyDrive/mitdb_data/train.json')\n",
        "val = pd.read_json('/content/drive/MyDrive/mitdb_data/val.json')\n",
        "mapping = json.load(open('/content/drive/MyDrive/mitdb_data/class-mapper.json'))\n",
        "\n",
        "train.head()"
      ]
    },
    {
      "cell_type": "code",
      "execution_count": null,
      "metadata": {
        "colab": {
          "base_uri": "https://localhost:8080/",
          "height": 206
        },
        "id": "rxfD4f5oYmdA",
        "outputId": "b41191d2-352d-4fdc-9393-bcaa0dfaf267"
      },
      "outputs": [
        {
          "output_type": "execute_result",
          "data": {
            "text/plain": [
              "   name lead label  filename  \\\n",
              "0   234   V1     N       366   \n",
              "1   121   V1     N       513   \n",
              "2   113   V1     N       966   \n",
              "3   119   V1     N      1971   \n",
              "4   105   V1     N      1741   \n",
              "\n",
              "                                                path  \n",
              "0  /content/drive/MyDrive/mitdb_data/2D/234/V1/N/...  \n",
              "1  /content/drive/MyDrive/mitdb_data/2D/121/V1/N/...  \n",
              "2  /content/drive/MyDrive/mitdb_data/2D/113/V1/N/...  \n",
              "3  /content/drive/MyDrive/mitdb_data/2D/119/V1/N/...  \n",
              "4  /content/drive/MyDrive/mitdb_data/2D/105/V1/N/...  "
            ],
            "text/html": [
              "\n",
              "  <div id=\"df-208b00ea-2588-445b-b966-0c6e55847682\">\n",
              "    <div class=\"colab-df-container\">\n",
              "      <div>\n",
              "<style scoped>\n",
              "    .dataframe tbody tr th:only-of-type {\n",
              "        vertical-align: middle;\n",
              "    }\n",
              "\n",
              "    .dataframe tbody tr th {\n",
              "        vertical-align: top;\n",
              "    }\n",
              "\n",
              "    .dataframe thead th {\n",
              "        text-align: right;\n",
              "    }\n",
              "</style>\n",
              "<table border=\"1\" class=\"dataframe\">\n",
              "  <thead>\n",
              "    <tr style=\"text-align: right;\">\n",
              "      <th></th>\n",
              "      <th>name</th>\n",
              "      <th>lead</th>\n",
              "      <th>label</th>\n",
              "      <th>filename</th>\n",
              "      <th>path</th>\n",
              "    </tr>\n",
              "  </thead>\n",
              "  <tbody>\n",
              "    <tr>\n",
              "      <th>0</th>\n",
              "      <td>234</td>\n",
              "      <td>V1</td>\n",
              "      <td>N</td>\n",
              "      <td>366</td>\n",
              "      <td>/content/drive/MyDrive/mitdb_data/2D/234/V1/N/...</td>\n",
              "    </tr>\n",
              "    <tr>\n",
              "      <th>1</th>\n",
              "      <td>121</td>\n",
              "      <td>V1</td>\n",
              "      <td>N</td>\n",
              "      <td>513</td>\n",
              "      <td>/content/drive/MyDrive/mitdb_data/2D/121/V1/N/...</td>\n",
              "    </tr>\n",
              "    <tr>\n",
              "      <th>2</th>\n",
              "      <td>113</td>\n",
              "      <td>V1</td>\n",
              "      <td>N</td>\n",
              "      <td>966</td>\n",
              "      <td>/content/drive/MyDrive/mitdb_data/2D/113/V1/N/...</td>\n",
              "    </tr>\n",
              "    <tr>\n",
              "      <th>3</th>\n",
              "      <td>119</td>\n",
              "      <td>V1</td>\n",
              "      <td>N</td>\n",
              "      <td>1971</td>\n",
              "      <td>/content/drive/MyDrive/mitdb_data/2D/119/V1/N/...</td>\n",
              "    </tr>\n",
              "    <tr>\n",
              "      <th>4</th>\n",
              "      <td>105</td>\n",
              "      <td>V1</td>\n",
              "      <td>N</td>\n",
              "      <td>1741</td>\n",
              "      <td>/content/drive/MyDrive/mitdb_data/2D/105/V1/N/...</td>\n",
              "    </tr>\n",
              "  </tbody>\n",
              "</table>\n",
              "</div>\n",
              "      <button class=\"colab-df-convert\" onclick=\"convertToInteractive('df-208b00ea-2588-445b-b966-0c6e55847682')\"\n",
              "              title=\"Convert this dataframe to an interactive table.\"\n",
              "              style=\"display:none;\">\n",
              "        \n",
              "  <svg xmlns=\"http://www.w3.org/2000/svg\" height=\"24px\"viewBox=\"0 0 24 24\"\n",
              "       width=\"24px\">\n",
              "    <path d=\"M0 0h24v24H0V0z\" fill=\"none\"/>\n",
              "    <path d=\"M18.56 5.44l.94 2.06.94-2.06 2.06-.94-2.06-.94-.94-2.06-.94 2.06-2.06.94zm-11 1L8.5 8.5l.94-2.06 2.06-.94-2.06-.94L8.5 2.5l-.94 2.06-2.06.94zm10 10l.94 2.06.94-2.06 2.06-.94-2.06-.94-.94-2.06-.94 2.06-2.06.94z\"/><path d=\"M17.41 7.96l-1.37-1.37c-.4-.4-.92-.59-1.43-.59-.52 0-1.04.2-1.43.59L10.3 9.45l-7.72 7.72c-.78.78-.78 2.05 0 2.83L4 21.41c.39.39.9.59 1.41.59.51 0 1.02-.2 1.41-.59l7.78-7.78 2.81-2.81c.8-.78.8-2.07 0-2.86zM5.41 20L4 18.59l7.72-7.72 1.47 1.35L5.41 20z\"/>\n",
              "  </svg>\n",
              "      </button>\n",
              "      \n",
              "  <style>\n",
              "    .colab-df-container {\n",
              "      display:flex;\n",
              "      flex-wrap:wrap;\n",
              "      gap: 12px;\n",
              "    }\n",
              "\n",
              "    .colab-df-convert {\n",
              "      background-color: #E8F0FE;\n",
              "      border: none;\n",
              "      border-radius: 50%;\n",
              "      cursor: pointer;\n",
              "      display: none;\n",
              "      fill: #1967D2;\n",
              "      height: 32px;\n",
              "      padding: 0 0 0 0;\n",
              "      width: 32px;\n",
              "    }\n",
              "\n",
              "    .colab-df-convert:hover {\n",
              "      background-color: #E2EBFA;\n",
              "      box-shadow: 0px 1px 2px rgba(60, 64, 67, 0.3), 0px 1px 3px 1px rgba(60, 64, 67, 0.15);\n",
              "      fill: #174EA6;\n",
              "    }\n",
              "\n",
              "    [theme=dark] .colab-df-convert {\n",
              "      background-color: #3B4455;\n",
              "      fill: #D2E3FC;\n",
              "    }\n",
              "\n",
              "    [theme=dark] .colab-df-convert:hover {\n",
              "      background-color: #434B5C;\n",
              "      box-shadow: 0px 1px 3px 1px rgba(0, 0, 0, 0.15);\n",
              "      filter: drop-shadow(0px 1px 2px rgba(0, 0, 0, 0.3));\n",
              "      fill: #FFFFFF;\n",
              "    }\n",
              "  </style>\n",
              "\n",
              "      <script>\n",
              "        const buttonEl =\n",
              "          document.querySelector('#df-208b00ea-2588-445b-b966-0c6e55847682 button.colab-df-convert');\n",
              "        buttonEl.style.display =\n",
              "          google.colab.kernel.accessAllowed ? 'block' : 'none';\n",
              "\n",
              "        async function convertToInteractive(key) {\n",
              "          const element = document.querySelector('#df-208b00ea-2588-445b-b966-0c6e55847682');\n",
              "          const dataTable =\n",
              "            await google.colab.kernel.invokeFunction('convertToInteractive',\n",
              "                                                     [key], {});\n",
              "          if (!dataTable) return;\n",
              "\n",
              "          const docLinkHtml = 'Like what you see? Visit the ' +\n",
              "            '<a target=\"_blank\" href=https://colab.research.google.com/notebooks/data_table.ipynb>data table notebook</a>'\n",
              "            + ' to learn more about interactive tables.';\n",
              "          element.innerHTML = '';\n",
              "          dataTable['output_type'] = 'display_data';\n",
              "          await google.colab.output.renderOutput(dataTable, element);\n",
              "          const docLink = document.createElement('div');\n",
              "          docLink.innerHTML = docLinkHtml;\n",
              "          element.appendChild(docLink);\n",
              "        }\n",
              "      </script>\n",
              "    </div>\n",
              "  </div>\n",
              "  "
            ]
          },
          "metadata": {},
          "execution_count": 12
        }
      ],
      "source": [
        "val.head()"
      ]
    },
    {
      "cell_type": "code",
      "execution_count": null,
      "metadata": {
        "id": "NhY6fiEdqMVL"
      },
      "outputs": [],
      "source": [
        "y = train['label']\n",
        "x = train['path']"
      ]
    },
    {
      "cell_type": "code",
      "execution_count": null,
      "metadata": {
        "id": "xkNe3Vqg0m37"
      },
      "outputs": [],
      "source": [
        "import cv2"
      ]
    },
    {
      "cell_type": "code",
      "execution_count": null,
      "metadata": {
        "id": "5YT8DLRVx45b"
      },
      "outputs": [],
      "source": [
        "base_dir = '/content/drive/MyDrive/mitdb_data/'\n",
        "trainnig = '/content/drive/MyDrive/mitdb_data/training'\n",
        "# os.makedirs(osp.join(base_dir,'training'))\n",
        "# normal_dir = os.makedirs(osp.join(trainnig,'Normal'))\n",
        "\n"
      ]
    },
    {
      "cell_type": "code",
      "execution_count": null,
      "metadata": {
        "id": "yPqSKqyqa45k"
      },
      "outputs": [],
      "source": [
        "os.makedirs(osp.join(base_dir,'validation'))"
      ]
    },
    {
      "cell_type": "code",
      "execution_count": null,
      "metadata": {
        "id": "QON2zjHaQiKh"
      },
      "outputs": [],
      "source": [
        "import os.path as osp"
      ]
    },
    {
      "cell_type": "code",
      "execution_count": null,
      "metadata": {
        "id": "to3X-MTJOCiJ",
        "colab": {
          "base_uri": "https://localhost:8080/",
          "height": 358
        },
        "outputId": "d8cea299-0358-44a0-daf2-e95f9e32b43d"
      },
      "outputs": [
        {
          "output_type": "error",
          "ename": "FileExistsError",
          "evalue": "ignored",
          "traceback": [
            "\u001b[0;31m---------------------------------------------------------------------------\u001b[0m",
            "\u001b[0;31mFileExistsError\u001b[0m                           Traceback (most recent call last)",
            "\u001b[0;32m<ipython-input-18-5edad8c9a099>\u001b[0m in \u001b[0;36m<module>\u001b[0;34m\u001b[0m\n\u001b[0;32m----> 1\u001b[0;31m \u001b[0mnormal_dir\u001b[0m \u001b[0;34m=\u001b[0m \u001b[0mos\u001b[0m\u001b[0;34m.\u001b[0m\u001b[0mmakedirs\u001b[0m\u001b[0;34m(\u001b[0m\u001b[0mosp\u001b[0m\u001b[0;34m.\u001b[0m\u001b[0mjoin\u001b[0m\u001b[0;34m(\u001b[0m\u001b[0mtrainnig\u001b[0m\u001b[0;34m,\u001b[0m\u001b[0;34m'Normal'\u001b[0m\u001b[0;34m)\u001b[0m\u001b[0;34m)\u001b[0m\u001b[0;34m\u001b[0m\u001b[0;34m\u001b[0m\u001b[0m\n\u001b[0m\u001b[1;32m      2\u001b[0m \u001b[0mPVC_dir\u001b[0m \u001b[0;34m=\u001b[0m \u001b[0mos\u001b[0m\u001b[0;34m.\u001b[0m\u001b[0mmakedirs\u001b[0m\u001b[0;34m(\u001b[0m\u001b[0mosp\u001b[0m\u001b[0;34m.\u001b[0m\u001b[0mjoin\u001b[0m\u001b[0;34m(\u001b[0m\u001b[0mtrainnig\u001b[0m\u001b[0;34m,\u001b[0m\u001b[0;34m'PVC'\u001b[0m\u001b[0;34m)\u001b[0m\u001b[0;34m)\u001b[0m\u001b[0;34m\u001b[0m\u001b[0;34m\u001b[0m\u001b[0m\n\u001b[1;32m      3\u001b[0m \u001b[0mPAB_dir\u001b[0m \u001b[0;34m=\u001b[0m \u001b[0mos\u001b[0m\u001b[0;34m.\u001b[0m\u001b[0mmakedirs\u001b[0m\u001b[0;34m(\u001b[0m\u001b[0mosp\u001b[0m\u001b[0;34m.\u001b[0m\u001b[0mjoin\u001b[0m\u001b[0;34m(\u001b[0m\u001b[0mtrainnig\u001b[0m\u001b[0;34m,\u001b[0m\u001b[0;34m'PAB'\u001b[0m\u001b[0;34m)\u001b[0m\u001b[0;34m)\u001b[0m\u001b[0;34m\u001b[0m\u001b[0;34m\u001b[0m\u001b[0m\n\u001b[1;32m      4\u001b[0m \u001b[0mRBB_dir\u001b[0m \u001b[0;34m=\u001b[0m \u001b[0mos\u001b[0m\u001b[0;34m.\u001b[0m\u001b[0mmakedirs\u001b[0m\u001b[0;34m(\u001b[0m\u001b[0mosp\u001b[0m\u001b[0;34m.\u001b[0m\u001b[0mjoin\u001b[0m\u001b[0;34m(\u001b[0m\u001b[0mtrainnig\u001b[0m\u001b[0;34m,\u001b[0m\u001b[0;34m'RBB'\u001b[0m\u001b[0;34m)\u001b[0m\u001b[0;34m)\u001b[0m\u001b[0;34m\u001b[0m\u001b[0;34m\u001b[0m\u001b[0m\n\u001b[1;32m      5\u001b[0m \u001b[0mLBB_dir\u001b[0m \u001b[0;34m=\u001b[0m \u001b[0mos\u001b[0m\u001b[0;34m.\u001b[0m\u001b[0mmakedirs\u001b[0m\u001b[0;34m(\u001b[0m\u001b[0mosp\u001b[0m\u001b[0;34m.\u001b[0m\u001b[0mjoin\u001b[0m\u001b[0;34m(\u001b[0m\u001b[0mtrainnig\u001b[0m\u001b[0;34m,\u001b[0m\u001b[0;34m'LBB'\u001b[0m\u001b[0;34m)\u001b[0m\u001b[0;34m)\u001b[0m\u001b[0;34m\u001b[0m\u001b[0;34m\u001b[0m\u001b[0m\n",
            "\u001b[0;32m/usr/lib/python3.9/os.py\u001b[0m in \u001b[0;36mmakedirs\u001b[0;34m(name, mode, exist_ok)\u001b[0m\n\u001b[1;32m    223\u001b[0m             \u001b[0;32mreturn\u001b[0m\u001b[0;34m\u001b[0m\u001b[0;34m\u001b[0m\u001b[0m\n\u001b[1;32m    224\u001b[0m     \u001b[0;32mtry\u001b[0m\u001b[0;34m:\u001b[0m\u001b[0;34m\u001b[0m\u001b[0;34m\u001b[0m\u001b[0m\n\u001b[0;32m--> 225\u001b[0;31m         \u001b[0mmkdir\u001b[0m\u001b[0;34m(\u001b[0m\u001b[0mname\u001b[0m\u001b[0;34m,\u001b[0m \u001b[0mmode\u001b[0m\u001b[0;34m)\u001b[0m\u001b[0;34m\u001b[0m\u001b[0;34m\u001b[0m\u001b[0m\n\u001b[0m\u001b[1;32m    226\u001b[0m     \u001b[0;32mexcept\u001b[0m \u001b[0mOSError\u001b[0m\u001b[0;34m:\u001b[0m\u001b[0;34m\u001b[0m\u001b[0;34m\u001b[0m\u001b[0m\n\u001b[1;32m    227\u001b[0m         \u001b[0;31m# Cannot rely on checking for EEXIST, since the operating system\u001b[0m\u001b[0;34m\u001b[0m\u001b[0;34m\u001b[0m\u001b[0m\n",
            "\u001b[0;31mFileExistsError\u001b[0m: [Errno 17] File exists: '/content/drive/MyDrive/mitdb_data/training/Normal'"
          ]
        }
      ],
      "source": [
        "normal_dir = os.makedirs(osp.join(trainnig,'Normal'))\n",
        "PVC_dir = os.makedirs(osp.join(trainnig,'PVC'))\n",
        "PAB_dir = os.makedirs(osp.join(trainnig,'PAB'))\n",
        "RBB_dir = os.makedirs(osp.join(trainnig,'RBB'))\n",
        "LBB_dir = os.makedirs(osp.join(trainnig,'LBB'))\n",
        "APB_dir = os.makedirs(osp.join(trainnig,'APB'))\n",
        "AFW_dir = os.makedirs(osp.join(trainnig,'AFW'))\n",
        "VEB_dir = os.makedirs(osp.join(trainnig,'VEB'))"
      ]
    },
    {
      "cell_type": "code",
      "execution_count": null,
      "metadata": {
        "id": "VqMnHOHybYbC"
      },
      "outputs": [],
      "source": [
        "validation = '/content/drive/MyDrive/mitdb_data/validation'\n",
        "normal_dir = os.makedirs(osp.join(validation,'Normal'))\n",
        "PVC_dir = os.makedirs(osp.join(validation,'PVC'))\n",
        "PAB_dir = os.makedirs(osp.join(validation,'PAB'))\n",
        "RBB_dir = os.makedirs(osp.join(validation,'RBB'))\n",
        "LBB_dir = os.makedirs(osp.join(validation,'LBB'))\n",
        "APB_dir = os.makedirs(osp.join(validation,'APB'))\n",
        "AFW_dir = os.makedirs(osp.join(validation,'AFW'))\n",
        "VEB_dir = os.makedirs(osp.join(validation,'VEB'))"
      ]
    },
    {
      "cell_type": "code",
      "execution_count": null,
      "metadata": {
        "id": "_Z-M0KdcnyvA"
      },
      "outputs": [],
      "source": [
        "Split_Params_For_LABEL = \"mitdb_data/2D/\"\n",
        "Common_Params = \"/\"\n",
        "for label_x in list(train[\"path\"]):\n",
        "   L_Main_Path,L_Target_Path = label_x.split(Split_Params_For_LABEL)\n",
        "   Label_Path_Before,Label_Path_Middle,Label_Path_After,label_file = L_Target_Path.split(Common_Params)\n",
        "   if Label_Path_After =='N':\n",
        "     img = cv2.imread(label_x,0)\n",
        "     cv2.imwrite(f'/content/drive/MyDrive/mitdb_data/training/Normal/{Label_Path_After}_{label_file}',img)\n",
        "   if Label_Path_After =='V':\n",
        "     img = cv2.imread(label_x,0)\n",
        "     cv2.imwrite(f'/content/drive/MyDrive/mitdb_data/training/PVC/{Label_Path_After}_{label_file}',img)\n",
        "   if Label_Path_After =='\\\\':\n",
        "     img = cv2.imread(label_x,0)\n",
        "     cv2.imwrite(f'/content/drive/MyDrive/mitdb_data/training/PAB/{Label_Path_After}_{label_file}',img)\n",
        "   if Label_Path_After =='R':\n",
        "     img = cv2.imread(label_x,0)\n",
        "     cv2.imwrite(f'/content/drive/MyDrive/mitdb_data/training/RBB/{Label_Path_After}_{label_file}',img)\n",
        "   if Label_Path_After =='L':\n",
        "     img = cv2.imread(label_x,0)\n",
        "     cv2.imwrite(f'/content/drive/MyDrive/mitdb_data/training/LBB/{Label_Path_After}_{label_file}',img)\n",
        "   if Label_Path_After =='A':\n",
        "     img = cv2.imread(label_x,0)\n",
        "     cv2.imwrite(f'/content/drive/MyDrive/mitdb_data/training/APB/{Label_Path_After}_{label_file}',img)\n",
        "   if Label_Path_After =='!':\n",
        "     img = cv2.imread(label_x,0)\n",
        "     cv2.imwrite(f'/content/drive/MyDrive/mitdb_data/training/AFW/{Label_Path_After}_{label_file}',img)\n",
        "   if Label_Path_After =='E':\n",
        "     img = cv2.imread(label_x,0)\n",
        "     cv2.imwrite(f'/content/drive/MyDrive/mitdb_data/training/VEB/{Label_Path_After}_{label_file}',img)"
      ]
    },
    {
      "cell_type": "code",
      "execution_count": null,
      "metadata": {
        "id": "2-XIBaEDisDK"
      },
      "outputs": [],
      "source": [
        "validation = '/content/drive/MyDrive/mitdb_data/validation'\n",
        "Split_Params_For_LABEL = \"mitdb_data/2D/\"\n",
        "Common_Params = \"/\"\n",
        "for label_x in list(val[\"path\"]):\n",
        "   L_Main_Path,L_Target_Path = label_x.split(Split_Params_For_LABEL)\n",
        "   Label_Path_Before,Label_Path_Middle,Label_Path_After,label_file = L_Target_Path.split(Common_Params)\n",
        "   if Label_Path_After =='N':\n",
        "     img = cv2.imread(label_x,0)\n",
        "     cv2.imwrite(f'/content/drive/MyDrive/mitdb_data/validation/Normal/{Label_Path_After}_{label_file}',img)\n",
        "   if Label_Path_After =='V':\n",
        "     img = cv2.imread(label_x,0)\n",
        "     cv2.imwrite(f'/content/drive/MyDrive/mitdb_data/validation/PVC/{Label_Path_After}_{label_file}',img)\n",
        "   if Label_Path_After =='\\\\':\n",
        "     img = cv2.imread(label_x,0)\n",
        "     cv2.imwrite(f'/content/drive/MyDrive/mitdb_data/validation/PAB/{Label_Path_After}_{label_file}',img)\n",
        "   if Label_Path_After =='R':\n",
        "     img = cv2.imread(label_x,0)\n",
        "     cv2.imwrite(f'/content/drive/MyDrive/mitdb_data/validation/RBB/{Label_Path_After}_{label_file}',img)\n",
        "   if Label_Path_After =='L':\n",
        "     img = cv2.imread(label_x,0)\n",
        "     cv2.imwrite(f'/content/drive/MyDrive/mitdb_data/validation/LBB/{Label_Path_After}_{label_file}',img)\n",
        "   if Label_Path_After =='A':\n",
        "     img = cv2.imread(label_x,0)\n",
        "     cv2.imwrite(f'/content/drive/MyDrive/mitdb_data/validation/APB/{Label_Path_After}_{label_file}',img)\n",
        "   if Label_Path_After =='!':\n",
        "     img = cv2.imread(label_x,0)\n",
        "     cv2.imwrite(f'/content/drive/MyDrive/mitdb_data/validation/AFW/{Label_Path_After}_{label_file}',img)\n",
        "   if Label_Path_After =='E':\n",
        "     img = cv2.imread(label_x,0)\n",
        "     cv2.imwrite(f'/content/drive/MyDrive/mitdb_data/validation/VEB/{Label_Path_After}_{label_file}',img)"
      ]
    },
    {
      "cell_type": "code",
      "execution_count": null,
      "metadata": {
        "id": "fCkyZ9hOPHN-"
      },
      "outputs": [],
      "source": [
        "SIZE = 200\n",
        "X_dataset = []\n",
        "for i in list(x):\n",
        "    img = image.load_img(i, target_size=(SIZE,SIZE,3))\n",
        "    img = image.img_to_array(img)\n",
        "    img = img/255.\n",
        "    X_dataset.append(img)"
      ]
    },
    {
      "cell_type": "code",
      "execution_count": null,
      "metadata": {
        "id": "FJ-ScDg9SNH7"
      },
      "outputs": [],
      "source": [
        "import numpy as np\n",
        "X = np.array(X_dataset)"
      ]
    },
    {
      "cell_type": "code",
      "execution_count": null,
      "metadata": {
        "colab": {
          "base_uri": "https://localhost:8080/",
          "height": 340
        },
        "id": "nTdIeZC8R1G1",
        "outputId": "434af7ea-8a70-433d-caf9-609e599f9537"
      },
      "outputs": [
        {
          "output_type": "execute_result",
          "data": {
            "text/plain": [
              "<matplotlib.image.AxesImage at 0x7f38acd95e50>"
            ]
          },
          "metadata": {},
          "execution_count": 23
        },
        {
          "output_type": "display_data",
          "data": {
            "text/plain": [
              "<Figure size 576x360 with 1 Axes>"
            ],
            "image/png": "[encoded data removed]"
          },
          "metadata": {
            "needs_background": "light"
          }
        }
      ],
      "source": [
        "import matplotlib.pyplot as plt\n",
        "plt.imshow(X[50])"
      ]
    },
    {
      "cell_type": "code",
      "execution_count": null,
      "metadata": {
        "colab": {
          "base_uri": "https://localhost:8080/"
        },
        "id": "5nOPK2ziuJ2u",
        "outputId": "0a2518c6-5fe7-4aeb-9878-24e5f7c9fcc8"
      },
      "outputs": [
        {
          "output_type": "execute_result",
          "data": {
            "text/plain": [
              "(378,)"
            ]
          },
          "metadata": {},
          "execution_count": 24
        }
      ],
      "source": [
        "X.shape\n",
        "y.shape"
      ]
    },
    {
      "cell_type": "code",
      "execution_count": null,
      "metadata": {
        "id": "KhO4n9KAkHji"
      },
      "outputs": [],
      "source": [
        "from tensorflow.keras.optimizers import Adam\n",
        "from tensorflow.keras.preprocessing.image import ImageDataGenerator\n",
        "from tensorflow.keras.callbacks import EarlyStopping, ModelCheckpoint"
      ]
    },
    {
      "cell_type": "code",
      "execution_count": null,
      "metadata": {
        "colab": {
          "base_uri": "https://localhost:8080/"
        },
        "id": "vwkM0oO8WQeL",
        "outputId": "3b2d4262-55b4-4877-f9b4-3cb530992ad0"
      },
      "outputs": [
        {
          "output_type": "stream",
          "name": "stdout",
          "text": [
            "Found 369 images belonging to 8 classes.\n"
          ]
        }
      ],
      "source": [
        "img_width=200; img_height=200\n",
        "batch_size=16\n",
        "TRAINING_DIR = '/content/drive/MyDrive/mitdb_data/training/'\n",
        "\n",
        "train_datagen = ImageDataGenerator(rescale = 1/255.0,\n",
        "                                   rotation_range=30,\n",
        "                                   zoom_range=0.4,\n",
        "                                   horizontal_flip=True)\n",
        "\n",
        "train_generator = train_datagen.flow_from_directory(TRAINING_DIR,\n",
        "                                                    batch_size=batch_size,\n",
        "                                                    class_mode='categorical',\n",
        "                                                    target_size=(img_height, img_width))\n"
      ]
    },
    {
      "cell_type": "code",
      "execution_count": null,
      "metadata": {
        "colab": {
          "base_uri": "https://localhost:8080/"
        },
        "id": "t4z1JD3tjp5b",
        "outputId": "873de903-81df-473c-ed9b-82dc20a09b2a"
      },
      "outputs": [
        {
          "output_type": "stream",
          "name": "stdout",
          "text": [
            "Found 42 images belonging to 8 classes.\n"
          ]
        }
      ],
      "source": [
        "\n",
        "VALIDATION_DIR = '/content/drive/MyDrive/mitdb_data/validation'\n",
        "\n",
        "validation_datagen = ImageDataGenerator(rescale = 1/255.0)\n",
        "\n",
        "validation_generator = validation_datagen.flow_from_directory(VALIDATION_DIR,\n",
        "                                                              batch_size=batch_size,\n",
        "                                                              class_mode='categorical',\n",
        "                                                              target_size=(img_height, img_width)\n",
        "                                                             )"
      ]
    },
    {
      "cell_type": "code",
      "execution_count": null,
      "metadata": {
        "colab": {
          "base_uri": "https://localhost:8080/"
        },
        "id": "7MZF6n1p4Q2N",
        "outputId": "91e0bce9-6351-48e6-c3e1-0f8f9e50ca38"
      },
      "outputs": [
        {
          "output_type": "execute_result",
          "data": {
            "text/plain": [
              "{'AFW': 0,\n",
              " 'APB': 1,\n",
              " 'LBB': 2,\n",
              " 'Normal': 3,\n",
              " 'PAB': 4,\n",
              " 'PVC': 5,\n",
              " 'RBB': 6,\n",
              " 'VEB': 7}"
            ]
          },
          "metadata": {},
          "execution_count": 28
        }
      ],
      "source": [
        "validation_generator.class_indices"
      ]
    },
    {
      "cell_type": "code",
      "execution_count": null,
      "metadata": {
        "id": "cBzW8QVlkbum"
      },
      "outputs": [],
      "source": [
        "callbacks = EarlyStopping(monitor='val_loss', patience=5, verbose=1, mode='auto')\n",
        "# autosave best Model\n",
        "best_model_file = '/content/CNN_aug_best_weights.h5'\n",
        "best_model = ModelCheckpoint(best_model_file, monitor='val_acc', verbose = 1, save_best_only = True)"
      ]
    },
    {
      "cell_type": "code",
      "execution_count": null,
      "metadata": {
        "colab": {
          "base_uri": "https://localhost:8080/"
        },
        "id": "OsLBGU2evEc1",
        "outputId": "bcedb20e-9248-4b2e-85af-e4612c10df8f"
      },
      "outputs": [
        {
          "output_type": "stream",
          "name": "stdout",
          "text": [
            "Downloading data from https://storage.googleapis.com/tensorflow/keras-applications/vgg16/vgg16_weights_tf_dim_ordering_tf_kernels_notop.h5\n",
            "58889256/58889256 [==============================] - 0s 0us/step\n",
            "Model: \"sequential\"\n",
            "_________________________________________________________________\n",
            " Layer (type)                Output Shape              Param #   \n",
            "=================================================================\n",
            " vgg16 (Functional)          (None, 6, 6, 512)         14714688  \n",
            "                                                                 \n",
            " flatten (Flatten)           (None, 18432)             0         \n",
            "                                                                 \n",
            " dense (Dense)               (None, 512)               9437696   \n",
            "                                                                 \n",
            " dense_1 (Dense)             (None, 8)                 4104      \n",
            "                                                                 \n",
            "=================================================================\n",
            "Total params: 24,156,488\n",
            "Trainable params: 9,441,800\n",
            "Non-trainable params: 14,714,688\n",
            "_________________________________________________________________\n"
          ]
        }
      ],
      "source": [
        "import tensorflow as tf\n",
        "from tensorflow.keras.applications.vgg16 import VGG16\n",
        "from tensorflow.keras.layers import Dense, Flatten\n",
        "from tensorflow.keras.models import Sequential\n",
        "\n",
        "# Load the VGG16 model\n",
        "vgg16 = VGG16(weights='imagenet', include_top=False, input_shape=(200, 200, 3))\n",
        "\n",
        "# Freeze the layers of the model\n",
        "for layer in vgg16.layers:\n",
        "    layer.trainable = False\n",
        "\n",
        "# Create a new model on top of the VGG16 model\n",
        "model = Sequential()\n",
        "model.add(vgg16)\n",
        "model.add(Flatten())\n",
        "model.add(Dense(512, activation='relu'))\n",
        "model.add(Dense(units=8, activation='softmax'))\n",
        "model.summary()\n"
      ]
    },
    {
      "cell_type": "code",
      "execution_count": null,
      "metadata": {
        "id": "MNrZvhK-lA4Z"
      },
      "outputs": [],
      "source": [
        "model.compile(optimizer='Adam',\n",
        "              loss='categorical_crossentropy',\n",
        "              metrics =['accuracy'])"
      ]
    },
    {
      "cell_type": "code",
      "execution_count": null,
      "metadata": {
        "colab": {
          "base_uri": "https://localhost:8080/"
        },
        "id": "92VwpQLok7Wu",
        "outputId": "9fd66a17-b4b7-4cb3-a117-c0e50f78b248"
      },
      "outputs": [
        {
          "output_type": "stream",
          "name": "stderr",
          "text": [
            "<ipython-input-32-5368c251678d>:1: UserWarning: `Model.fit_generator` is deprecated and will be removed in a future version. Please use `Model.fit`, which supports generators.\n",
            "  history = model.fit_generator(train_generator,\n"
          ]
        },
        {
          "output_type": "stream",
          "name": "stdout",
          "text": [
            "Epoch 1/30\n",
            "24/24 [==============================] - ETA: 0s - loss: 2.8494 - accuracy: 0.6504"
          ]
        },
        {
          "output_type": "stream",
          "name": "stderr",
          "text": [
            "WARNING:tensorflow:Can save best model only with val_acc available, skipping.\n"
          ]
        },
        {
          "output_type": "stream",
          "name": "stdout",
          "text": [
            "\b\b\b\b\b\b\b\b\b\b\b\b\b\b\b\b\b\b\b\b\b\b\b\b\b\b\b\b\b\b\b\b\b\b\b\b\b\b\b\b\b\b\b\b\b\b\b\b\b\b\b\b\b\b\b\b\b\b\b\b\b\b\b\b\b\b\b\b\b\b\b\b\b\b\b\b\b\b\b\b\b\b\r24/24 [==============================] - 236s 10s/step - loss: 2.8494 - accuracy: 0.6504 - val_loss: 0.8804 - val_accuracy: 0.7857\n",
            "Epoch 2/30\n",
            "24/24 [==============================] - ETA: 0s - loss: 0.7981 - accuracy: 0.7724"
          ]
        },
        {
          "output_type": "stream",
          "name": "stderr",
          "text": [
            "WARNING:tensorflow:Can save best model only with val_acc available, skipping.\n"
          ]
        },
        {
          "output_type": "stream",
          "name": "stdout",
          "text": [
            "\b\b\b\b\b\b\b\b\b\b\b\b\b\b\b\b\b\b\b\b\b\b\b\b\b\b\b\b\b\b\b\b\b\b\b\b\b\b\b\b\b\b\b\b\b\b\b\b\b\b\b\b\b\b\b\b\b\b\b\b\b\b\b\b\b\b\b\b\b\b\b\b\b\b\b\b\b\b\b\b\b\b\r24/24 [==============================] - 213s 9s/step - loss: 0.7981 - accuracy: 0.7724 - val_loss: 0.7506 - val_accuracy: 0.7857\n",
            "Epoch 3/30\n",
            "24/24 [==============================] - ETA: 0s - loss: 0.7637 - accuracy: 0.7507"
          ]
        },
        {
          "output_type": "stream",
          "name": "stderr",
          "text": [
            "WARNING:tensorflow:Can save best model only with val_acc available, skipping.\n"
          ]
        },
        {
          "output_type": "stream",
          "name": "stdout",
          "text": [
            "\b\b\b\b\b\b\b\b\b\b\b\b\b\b\b\b\b\b\b\b\b\b\b\b\b\b\b\b\b\b\b\b\b\b\b\b\b\b\b\b\b\b\b\b\b\b\b\b\b\b\b\b\b\b\b\b\b\b\b\b\b\b\b\b\b\b\b\b\b\b\b\b\b\b\b\b\b\b\b\b\b\b\r24/24 [==============================] - 213s 9s/step - loss: 0.7637 - accuracy: 0.7507 - val_loss: 0.8770 - val_accuracy: 0.7619\n",
            "Epoch 4/30\n",
            "24/24 [==============================] - ETA: 0s - loss: 0.8038 - accuracy: 0.7507"
          ]
        },
        {
          "output_type": "stream",
          "name": "stderr",
          "text": [
            "WARNING:tensorflow:Can save best model only with val_acc available, skipping.\n"
          ]
        },
        {
          "output_type": "stream",
          "name": "stdout",
          "text": [
            "\b\b\b\b\b\b\b\b\b\b\b\b\b\b\b\b\b\b\b\b\b\b\b\b\b\b\b\b\b\b\b\b\b\b\b\b\b\b\b\b\b\b\b\b\b\b\b\b\b\b\b\b\b\b\b\b\b\b\b\b\b\b\b\b\b\b\b\b\b\b\b\b\b\b\b\b\b\b\b\b\b\b\r24/24 [==============================] - 214s 9s/step - loss: 0.8038 - accuracy: 0.7507 - val_loss: 0.5869 - val_accuracy: 0.7619\n",
            "Epoch 5/30\n",
            "24/24 [==============================] - ETA: 0s - loss: 0.6216 - accuracy: 0.7967"
          ]
        },
        {
          "output_type": "stream",
          "name": "stderr",
          "text": [
            "WARNING:tensorflow:Can save best model only with val_acc available, skipping.\n"
          ]
        },
        {
          "output_type": "stream",
          "name": "stdout",
          "text": [
            "\b\b\b\b\b\b\b\b\b\b\b\b\b\b\b\b\b\b\b\b\b\b\b\b\b\b\b\b\b\b\b\b\b\b\b\b\b\b\b\b\b\b\b\b\b\b\b\b\b\b\b\b\b\b\b\b\b\b\b\b\b\b\b\b\b\b\b\b\b\b\b\b\b\b\b\b\b\b\b\b\b\b\r24/24 [==============================] - 233s 10s/step - loss: 0.6216 - accuracy: 0.7967 - val_loss: 0.5074 - val_accuracy: 0.8333\n",
            "Epoch 6/30\n",
            "24/24 [==============================] - ETA: 0s - loss: 0.4706 - accuracy: 0.8238"
          ]
        },
        {
          "output_type": "stream",
          "name": "stderr",
          "text": [
            "WARNING:tensorflow:Can save best model only with val_acc available, skipping.\n"
          ]
        },
        {
          "output_type": "stream",
          "name": "stdout",
          "text": [
            "\b\b\b\b\b\b\b\b\b\b\b\b\b\b\b\b\b\b\b\b\b\b\b\b\b\b\b\b\b\b\b\b\b\b\b\b\b\b\b\b\b\b\b\b\b\b\b\b\b\b\b\b\b\b\b\b\b\b\b\b\b\b\b\b\b\b\b\b\b\b\b\b\b\b\b\b\b\b\b\b\b\b\r24/24 [==============================] - 232s 10s/step - loss: 0.4706 - accuracy: 0.8238 - val_loss: 0.4426 - val_accuracy: 0.8333\n",
            "Epoch 7/30\n",
            "24/24 [==============================] - ETA: 0s - loss: 0.4246 - accuracy: 0.8591"
          ]
        },
        {
          "output_type": "stream",
          "name": "stderr",
          "text": [
            "WARNING:tensorflow:Can save best model only with val_acc available, skipping.\n"
          ]
        },
        {
          "output_type": "stream",
          "name": "stdout",
          "text": [
            "\b\b\b\b\b\b\b\b\b\b\b\b\b\b\b\b\b\b\b\b\b\b\b\b\b\b\b\b\b\b\b\b\b\b\b\b\b\b\b\b\b\b\b\b\b\b\b\b\b\b\b\b\b\b\b\b\b\b\b\b\b\b\b\b\b\b\b\b\b\b\b\b\b\b\b\b\b\b\b\b\b\b\r24/24 [==============================] - 232s 10s/step - loss: 0.4246 - accuracy: 0.8591 - val_loss: 0.3718 - val_accuracy: 0.8333\n",
            "Epoch 8/30\n",
            "24/24 [==============================] - ETA: 0s - loss: 0.3883 - accuracy: 0.8591"
          ]
        },
        {
          "output_type": "stream",
          "name": "stderr",
          "text": [
            "WARNING:tensorflow:Can save best model only with val_acc available, skipping.\n"
          ]
        },
        {
          "output_type": "stream",
          "name": "stdout",
          "text": [
            "\b\b\b\b\b\b\b\b\b\b\b\b\b\b\b\b\b\b\b\b\b\b\b\b\b\b\b\b\b\b\b\b\b\b\b\b\b\b\b\b\b\b\b\b\b\b\b\b\b\b\b\b\b\b\b\b\b\b\b\b\b\b\b\b\b\b\b\b\b\b\b\b\b\b\b\b\b\b\b\b\b\b\r24/24 [==============================] - 229s 10s/step - loss: 0.3883 - accuracy: 0.8591 - val_loss: 0.3887 - val_accuracy: 0.8333\n",
            "Epoch 9/30\n",
            "24/24 [==============================] - ETA: 0s - loss: 0.3842 - accuracy: 0.8835"
          ]
        },
        {
          "output_type": "stream",
          "name": "stderr",
          "text": [
            "WARNING:tensorflow:Can save best model only with val_acc available, skipping.\n"
          ]
        },
        {
          "output_type": "stream",
          "name": "stdout",
          "text": [
            "\b\b\b\b\b\b\b\b\b\b\b\b\b\b\b\b\b\b\b\b\b\b\b\b\b\b\b\b\b\b\b\b\b\b\b\b\b\b\b\b\b\b\b\b\b\b\b\b\b\b\b\b\b\b\b\b\b\b\b\b\b\b\b\b\b\b\b\b\b\b\b\b\b\b\b\b\b\b\b\b\b\b\r24/24 [==============================] - 213s 9s/step - loss: 0.3842 - accuracy: 0.8835 - val_loss: 0.3206 - val_accuracy: 0.8333\n",
            "Epoch 10/30\n",
            "24/24 [==============================] - ETA: 0s - loss: 0.4013 - accuracy: 0.8591"
          ]
        },
        {
          "output_type": "stream",
          "name": "stderr",
          "text": [
            "WARNING:tensorflow:Can save best model only with val_acc available, skipping.\n"
          ]
        },
        {
          "output_type": "stream",
          "name": "stdout",
          "text": [
            "\b\b\b\b\b\b\b\b\b\b\b\b\b\b\b\b\b\b\b\b\b\b\b\b\b\b\b\b\b\b\b\b\b\b\b\b\b\b\b\b\b\b\b\b\b\b\b\b\b\b\b\b\b\b\b\b\b\b\b\b\b\b\b\b\b\b\b\b\b\b\b\b\b\b\b\b\b\b\b\b\b\b\r24/24 [==============================] - 233s 10s/step - loss: 0.4013 - accuracy: 0.8591 - val_loss: 0.3078 - val_accuracy: 0.8810\n",
            "Epoch 11/30\n",
            "24/24 [==============================] - ETA: 0s - loss: 0.4179 - accuracy: 0.8537"
          ]
        },
        {
          "output_type": "stream",
          "name": "stderr",
          "text": [
            "WARNING:tensorflow:Can save best model only with val_acc available, skipping.\n"
          ]
        },
        {
          "output_type": "stream",
          "name": "stdout",
          "text": [
            "\b\b\b\b\b\b\b\b\b\b\b\b\b\b\b\b\b\b\b\b\b\b\b\b\b\b\b\b\b\b\b\b\b\b\b\b\b\b\b\b\b\b\b\b\b\b\b\b\b\b\b\b\b\b\b\b\b\b\b\b\b\b\b\b\b\b\b\b\b\b\b\b\b\b\b\b\b\b\b\b\b\b\r24/24 [==============================] - 215s 9s/step - loss: 0.4179 - accuracy: 0.8537 - val_loss: 0.5772 - val_accuracy: 0.8333\n",
            "Epoch 12/30\n",
            "24/24 [==============================] - ETA: 0s - loss: 0.5685 - accuracy: 0.8645"
          ]
        },
        {
          "output_type": "stream",
          "name": "stderr",
          "text": [
            "WARNING:tensorflow:Can save best model only with val_acc available, skipping.\n"
          ]
        },
        {
          "output_type": "stream",
          "name": "stdout",
          "text": [
            "\b\b\b\b\b\b\b\b\b\b\b\b\b\b\b\b\b\b\b\b\b\b\b\b\b\b\b\b\b\b\b\b\b\b\b\b\b\b\b\b\b\b\b\b\b\b\b\b\b\b\b\b\b\b\b\b\b\b\b\b\b\b\b\b\b\b\b\b\b\b\b\b\b\b\b\b\b\b\b\b\b\b\r24/24 [==============================] - 234s 10s/step - loss: 0.5685 - accuracy: 0.8645 - val_loss: 0.5377 - val_accuracy: 0.8333\n",
            "Epoch 13/30\n",
            "24/24 [==============================] - ETA: 0s - loss: 0.3589 - accuracy: 0.8618"
          ]
        },
        {
          "output_type": "stream",
          "name": "stderr",
          "text": [
            "WARNING:tensorflow:Can save best model only with val_acc available, skipping.\n"
          ]
        },
        {
          "output_type": "stream",
          "name": "stdout",
          "text": [
            "\b\b\b\b\b\b\b\b\b\b\b\b\b\b\b\b\b\b\b\b\b\b\b\b\b\b\b\b\b\b\b\b\b\b\b\b\b\b\b\b\b\b\b\b\b\b\b\b\b\b\b\b\b\b\b\b\b\b\b\b\b\b\b\b\b\b\b\b\b\b\b\b\b\b\b\b\b\b\b\b\b\b\r24/24 [==============================] - 233s 10s/step - loss: 0.3589 - accuracy: 0.8618 - val_loss: 0.4805 - val_accuracy: 0.8333\n",
            "Epoch 14/30\n",
            "24/24 [==============================] - ETA: 0s - loss: 0.4666 - accuracy: 0.8238"
          ]
        },
        {
          "output_type": "stream",
          "name": "stderr",
          "text": [
            "WARNING:tensorflow:Can save best model only with val_acc available, skipping.\n"
          ]
        },
        {
          "output_type": "stream",
          "name": "stdout",
          "text": [
            "\b\b\b\b\b\b\b\b\b\b\b\b\b\b\b\b\b\b\b\b\b\b\b\b\b\b\b\b\b\b\b\b\b\b\b\b\b\b\b\b\b\b\b\b\b\b\b\b\b\b\b\b\b\b\b\b\b\b\b\b\b\b\b\b\b\b\b\b\b\b\b\b\b\b\b\b\b\b\b\b\b\b\r24/24 [==============================] - 233s 10s/step - loss: 0.4666 - accuracy: 0.8238 - val_loss: 0.3812 - val_accuracy: 0.8810\n",
            "Epoch 15/30\n",
            "24/24 [==============================] - ETA: 0s - loss: 0.3672 - accuracy: 0.8753"
          ]
        },
        {
          "output_type": "stream",
          "name": "stderr",
          "text": [
            "WARNING:tensorflow:Can save best model only with val_acc available, skipping.\n"
          ]
        },
        {
          "output_type": "stream",
          "name": "stdout",
          "text": [
            "\b\b\b\b\b\b\b\b\b\b\b\b\b\b\b\b\b\b\b\b\b\b\b\b\b\b\b\b\b\b\b\b\b\b\b\b\b\b\b\b\b\b\b\b\b\b\b\b\b\b\b\b\b\b\b\b\b\b\b\b\b\b\b\b\b\b\b\b\b\b\b\b\b\b\b\b\b\b\b\b\b\b\r24/24 [==============================] - 233s 10s/step - loss: 0.3672 - accuracy: 0.8753 - val_loss: 0.4169 - val_accuracy: 0.8571\n",
            "Epoch 16/30\n",
            "24/24 [==============================] - ETA: 0s - loss: 0.3710 - accuracy: 0.8672"
          ]
        },
        {
          "output_type": "stream",
          "name": "stderr",
          "text": [
            "WARNING:tensorflow:Can save best model only with val_acc available, skipping.\n"
          ]
        },
        {
          "output_type": "stream",
          "name": "stdout",
          "text": [
            "\b\b\b\b\b\b\b\b\b\b\b\b\b\b\b\b\b\b\b\b\b\b\b\b\b\b\b\b\b\b\b\b\b\b\b\b\b\b\b\b\b\b\b\b\b\b\b\b\b\b\b\b\b\b\b\b\b\b\b\b\b\b\b\b\b\b\b\b\b\b\b\b\b\b\b\b\b\b\b\b\b\b\r24/24 [==============================] - 233s 10s/step - loss: 0.3710 - accuracy: 0.8672 - val_loss: 0.2323 - val_accuracy: 0.9286\n",
            "Epoch 17/30\n",
            "24/24 [==============================] - ETA: 0s - loss: 0.6979 - accuracy: 0.7724"
          ]
        },
        {
          "output_type": "stream",
          "name": "stderr",
          "text": [
            "WARNING:tensorflow:Can save best model only with val_acc available, skipping.\n"
          ]
        },
        {
          "output_type": "stream",
          "name": "stdout",
          "text": [
            "\b\b\b\b\b\b\b\b\b\b\b\b\b\b\b\b\b\b\b\b\b\b\b\b\b\b\b\b\b\b\b\b\b\b\b\b\b\b\b\b\b\b\b\b\b\b\b\b\b\b\b\b\b\b\b\b\b\b\b\b\b\b\b\b\b\b\b\b\b\b\b\b\b\b\b\b\b\b\b\b\b\b\r24/24 [==============================] - 214s 9s/step - loss: 0.6979 - accuracy: 0.7724 - val_loss: 0.3244 - val_accuracy: 0.9048\n",
            "Epoch 18/30\n",
            "24/24 [==============================] - ETA: 0s - loss: 0.5087 - accuracy: 0.8455"
          ]
        },
        {
          "output_type": "stream",
          "name": "stderr",
          "text": [
            "WARNING:tensorflow:Can save best model only with val_acc available, skipping.\n"
          ]
        },
        {
          "output_type": "stream",
          "name": "stdout",
          "text": [
            "\b\b\b\b\b\b\b\b\b\b\b\b\b\b\b\b\b\b\b\b\b\b\b\b\b\b\b\b\b\b\b\b\b\b\b\b\b\b\b\b\b\b\b\b\b\b\b\b\b\b\b\b\b\b\b\b\b\b\b\b\b\b\b\b\b\b\b\b\b\b\b\b\b\b\b\b\b\b\b\b\b\b\r24/24 [==============================] - 229s 10s/step - loss: 0.5087 - accuracy: 0.8455 - val_loss: 0.3313 - val_accuracy: 0.9048\n",
            "Epoch 19/30\n",
            "24/24 [==============================] - ETA: 0s - loss: 0.3280 - accuracy: 0.8835"
          ]
        },
        {
          "output_type": "stream",
          "name": "stderr",
          "text": [
            "WARNING:tensorflow:Can save best model only with val_acc available, skipping.\n"
          ]
        },
        {
          "output_type": "stream",
          "name": "stdout",
          "text": [
            "\b\b\b\b\b\b\b\b\b\b\b\b\b\b\b\b\b\b\b\b\b\b\b\b\b\b\b\b\b\b\b\b\b\b\b\b\b\b\b\b\b\b\b\b\b\b\b\b\b\b\b\b\b\b\b\b\b\b\b\b\b\b\b\b\b\b\b\b\b\b\b\b\b\b\b\b\b\b\b\b\b\b\r24/24 [==============================] - 214s 9s/step - loss: 0.3280 - accuracy: 0.8835 - val_loss: 0.3124 - val_accuracy: 0.8333\n",
            "Epoch 20/30\n",
            "24/24 [==============================] - ETA: 0s - loss: 0.3193 - accuracy: 0.8808"
          ]
        },
        {
          "output_type": "stream",
          "name": "stderr",
          "text": [
            "WARNING:tensorflow:Can save best model only with val_acc available, skipping.\n"
          ]
        },
        {
          "output_type": "stream",
          "name": "stdout",
          "text": [
            "\b\b\b\b\b\b\b\b\b\b\b\b\b\b\b\b\b\b\b\b\b\b\b\b\b\b\b\b\b\b\b\b\b\b\b\b\b\b\b\b\b\b\b\b\b\b\b\b\b\b\b\b\b\b\b\b\b\b\b\b\b\b\b\b\b\b\b\b\b\b\b\b\b\b\b\b\b\b\b\b\b\b\r24/24 [==============================] - 232s 10s/step - loss: 0.3193 - accuracy: 0.8808 - val_loss: 0.2616 - val_accuracy: 0.8571\n",
            "Epoch 21/30\n",
            "24/24 [==============================] - ETA: 0s - loss: 0.3520 - accuracy: 0.8591"
          ]
        },
        {
          "output_type": "stream",
          "name": "stderr",
          "text": [
            "WARNING:tensorflow:Can save best model only with val_acc available, skipping.\n"
          ]
        },
        {
          "output_type": "stream",
          "name": "stdout",
          "text": [
            "\b\b\b\b\b\b\b\b\b\b\b\b\b\b\b\b\b\b\b\b\b\b\b\b\b\b\b\b\b\b\b\b\b\b\b\b\b\b\b\b\b\b\b\b\b\b\b\b\b\b\b\b\b\b\b\b\b\b\b\b\b\b\b\b\b\b\b\b\b\b\b\b\b\b\b\b\b\b\b\b\b\b\r24/24 [==============================] - 217s 9s/step - loss: 0.3520 - accuracy: 0.8591 - val_loss: 0.2688 - val_accuracy: 0.8571\n",
            "Epoch 22/30\n",
            "24/24 [==============================] - ETA: 0s - loss: 0.3031 - accuracy: 0.8997"
          ]
        },
        {
          "output_type": "stream",
          "name": "stderr",
          "text": [
            "WARNING:tensorflow:Can save best model only with val_acc available, skipping.\n"
          ]
        },
        {
          "output_type": "stream",
          "name": "stdout",
          "text": [
            "\b\b\b\b\b\b\b\b\b\b\b\b\b\b\b\b\b\b\b\b\b\b\b\b\b\b\b\b\b\b\b\b\b\b\b\b\b\b\b\b\b\b\b\b\b\b\b\b\b\b\b\b\b\b\b\b\b\b\b\b\b\b\b\b\b\b\b\b\b\b\b\b\b\b\b\b\b\b\b\b\b\b\r24/24 [==============================] - 214s 9s/step - loss: 0.3031 - accuracy: 0.8997 - val_loss: 0.2188 - val_accuracy: 0.9048\n",
            "Epoch 23/30\n",
            "24/24 [==============================] - ETA: 0s - loss: 0.2870 - accuracy: 0.9051"
          ]
        },
        {
          "output_type": "stream",
          "name": "stderr",
          "text": [
            "WARNING:tensorflow:Can save best model only with val_acc available, skipping.\n"
          ]
        },
        {
          "output_type": "stream",
          "name": "stdout",
          "text": [
            "\b\b\b\b\b\b\b\b\b\b\b\b\b\b\b\b\b\b\b\b\b\b\b\b\b\b\b\b\b\b\b\b\b\b\b\b\b\b\b\b\b\b\b\b\b\b\b\b\b\b\b\b\b\b\b\b\b\b\b\b\b\b\b\b\b\b\b\b\b\b\b\b\b\b\b\b\b\b\b\b\b\b\r24/24 [==============================] - 219s 9s/step - loss: 0.2870 - accuracy: 0.9051 - val_loss: 0.2126 - val_accuracy: 0.9524\n",
            "Epoch 24/30\n",
            "24/24 [==============================] - ETA: 0s - loss: 0.3024 - accuracy: 0.8699"
          ]
        },
        {
          "output_type": "stream",
          "name": "stderr",
          "text": [
            "WARNING:tensorflow:Can save best model only with val_acc available, skipping.\n"
          ]
        },
        {
          "output_type": "stream",
          "name": "stdout",
          "text": [
            "\b\b\b\b\b\b\b\b\b\b\b\b\b\b\b\b\b\b\b\b\b\b\b\b\b\b\b\b\b\b\b\b\b\b\b\b\b\b\b\b\b\b\b\b\b\b\b\b\b\b\b\b\b\b\b\b\b\b\b\b\b\b\b\b\b\b\b\b\b\b\b\b\b\b\b\b\b\b\b\b\b\b\r24/24 [==============================] - 212s 9s/step - loss: 0.3024 - accuracy: 0.8699 - val_loss: 0.2122 - val_accuracy: 0.9286\n",
            "Epoch 25/30\n",
            "24/24 [==============================] - ETA: 0s - loss: 0.2709 - accuracy: 0.9024"
          ]
        },
        {
          "output_type": "stream",
          "name": "stderr",
          "text": [
            "WARNING:tensorflow:Can save best model only with val_acc available, skipping.\n"
          ]
        },
        {
          "output_type": "stream",
          "name": "stdout",
          "text": [
            "\b\b\b\b\b\b\b\b\b\b\b\b\b\b\b\b\b\b\b\b\b\b\b\b\b\b\b\b\b\b\b\b\b\b\b\b\b\b\b\b\b\b\b\b\b\b\b\b\b\b\b\b\b\b\b\b\b\b\b\b\b\b\b\b\b\b\b\b\b\b\b\b\b\b\b\b\b\b\b\b\b\b\r24/24 [==============================] - 231s 10s/step - loss: 0.2709 - accuracy: 0.9024 - val_loss: 0.1624 - val_accuracy: 0.9762\n",
            "Epoch 26/30\n",
            "24/24 [==============================] - ETA: 0s - loss: 0.2507 - accuracy: 0.9187"
          ]
        },
        {
          "output_type": "stream",
          "name": "stderr",
          "text": [
            "WARNING:tensorflow:Can save best model only with val_acc available, skipping.\n"
          ]
        },
        {
          "output_type": "stream",
          "name": "stdout",
          "text": [
            "\b\b\b\b\b\b\b\b\b\b\b\b\b\b\b\b\b\b\b\b\b\b\b\b\b\b\b\b\b\b\b\b\b\b\b\b\b\b\b\b\b\b\b\b\b\b\b\b\b\b\b\b\b\b\b\b\b\b\b\b\b\b\b\b\b\b\b\b\b\b\b\b\b\b\b\b\b\b\b\b\b\b\r24/24 [==============================] - 211s 9s/step - loss: 0.2507 - accuracy: 0.9187 - val_loss: 0.1849 - val_accuracy: 0.9048\n",
            "Epoch 27/30\n",
            "24/24 [==============================] - ETA: 0s - loss: 0.2640 - accuracy: 0.9051"
          ]
        },
        {
          "output_type": "stream",
          "name": "stderr",
          "text": [
            "WARNING:tensorflow:Can save best model only with val_acc available, skipping.\n"
          ]
        },
        {
          "output_type": "stream",
          "name": "stdout",
          "text": [
            "\b\b\b\b\b\b\b\b\b\b\b\b\b\b\b\b\b\b\b\b\b\b\b\b\b\b\b\b\b\b\b\b\b\b\b\b\b\b\b\b\b\b\b\b\b\b\b\b\b\b\b\b\b\b\b\b\b\b\b\b\b\b\b\b\b\b\b\b\b\b\b\b\b\b\b\b\b\b\b\b\b\b\r24/24 [==============================] - 231s 10s/step - loss: 0.2640 - accuracy: 0.9051 - val_loss: 0.3904 - val_accuracy: 0.8571\n",
            "Epoch 28/30\n",
            "24/24 [==============================] - ETA: 0s - loss: 0.3247 - accuracy: 0.8753"
          ]
        },
        {
          "output_type": "stream",
          "name": "stderr",
          "text": [
            "WARNING:tensorflow:Can save best model only with val_acc available, skipping.\n"
          ]
        },
        {
          "output_type": "stream",
          "name": "stdout",
          "text": [
            "\b\b\b\b\b\b\b\b\b\b\b\b\b\b\b\b\b\b\b\b\b\b\b\b\b\b\b\b\b\b\b\b\b\b\b\b\b\b\b\b\b\b\b\b\b\b\b\b\b\b\b\b\b\b\b\b\b\b\b\b\b\b\b\b\b\b\b\b\b\b\b\b\b\b\b\b\b\b\b\b\b\b\r24/24 [==============================] - 229s 10s/step - loss: 0.3247 - accuracy: 0.8753 - val_loss: 0.2927 - val_accuracy: 0.9048\n",
            "Epoch 29/30\n",
            "24/24 [==============================] - ETA: 0s - loss: 0.3826 - accuracy: 0.8564"
          ]
        },
        {
          "output_type": "stream",
          "name": "stderr",
          "text": [
            "WARNING:tensorflow:Can save best model only with val_acc available, skipping.\n"
          ]
        },
        {
          "output_type": "stream",
          "name": "stdout",
          "text": [
            "\b\b\b\b\b\b\b\b\b\b\b\b\b\b\b\b\b\b\b\b\b\b\b\b\b\b\b\b\b\b\b\b\b\b\b\b\b\b\b\b\b\b\b\b\b\b\b\b\b\b\b\b\b\b\b\b\b\b\b\b\b\b\b\b\b\b\b\b\b\b\b\b\b\b\b\b\b\b\b\b\b\b\r24/24 [==============================] - 211s 9s/step - loss: 0.3826 - accuracy: 0.8564 - val_loss: 0.1831 - val_accuracy: 0.9048\n",
            "Epoch 30/30\n",
            "24/24 [==============================] - ETA: 0s - loss: 0.2373 - accuracy: 0.9079"
          ]
        },
        {
          "output_type": "stream",
          "name": "stderr",
          "text": [
            "WARNING:tensorflow:Can save best model only with val_acc available, skipping.\n"
          ]
        },
        {
          "output_type": "stream",
          "name": "stdout",
          "text": [
            "\b\b\b\b\b\b\b\b\b\b\b\b\b\b\b\b\b\b\b\b\b\b\b\b\b\b\b\b\b\b\b\b\b\b\b\b\b\b\b\b\b\b\b\b\b\b\b\b\b\b\b\b\b\b\b\b\b\b\b\b\b\b\b\b\b\b\b\b\b\b\b\b\b\b\b\b\b\b\b\b\b\b\r24/24 [==============================] - 210s 9s/step - loss: 0.2373 - accuracy: 0.9079 - val_loss: 0.2077 - val_accuracy: 0.9286\n"
          ]
        }
      ],
      "source": [
        "\n",
        "history = model.fit_generator(train_generator,\n",
        "                              epochs=30,\n",
        "                              verbose=1,\n",
        "                              validation_data=validation_generator,\n",
        "                              callbacks = [best_model]\n",
        "                              )"
      ]
    },
    {
      "cell_type": "code",
      "execution_count": null,
      "metadata": {
        "colab": {
          "base_uri": "https://localhost:8080/",
          "height": 458
        },
        "id": "rklqFZGmongS",
        "outputId": "3b7ab24f-5e55-447a-c9dd-d577d2658f3d"
      },
      "outputs": [
        {
          "output_type": "display_data",
          "data": {
            "text/plain": [
              "<Figure size 1008x504 with 1 Axes>"
            ],
            "image/png": "[encoded data removed]"
          },
          "metadata": {
            "needs_background": "light"
          }
        }
      ],
      "source": [
        "acc=history.history['accuracy']\n",
        "val_acc=history.history['val_accuracy']\n",
        "loss=history.history['loss']\n",
        "val_loss=history.history['val_loss']\n",
        "\n",
        "epochs=range(len(acc))\n",
        "\n",
        "fig = plt.figure(figsize=(14,7))\n",
        "plt.plot(epochs, acc, 'r', label=\"Training Accuracy\")\n",
        "plt.plot(epochs, val_acc, 'b', label=\"Validation Accuracy\")\n",
        "plt.xlabel('Epoch')\n",
        "plt.ylabel('Accuracy')\n",
        "plt.title('Training and validation accuracy')\n",
        "plt.legend(loc='lower right')\n",
        "plt.show()"
      ]
    },
    {
      "cell_type": "code",
      "execution_count": null,
      "metadata": {
        "colab": {
          "base_uri": "https://localhost:8080/",
          "height": 475
        },
        "id": "RIboN0kiqrdf",
        "outputId": "9aa83aad-928a-4943-e259-ab2c026663aa"
      },
      "outputs": [
        {
          "output_type": "execute_result",
          "data": {
            "text/plain": [
              "Text(0.5, 1.0, 'Training and validation loss')"
            ]
          },
          "metadata": {},
          "execution_count": 34
        },
        {
          "output_type": "display_data",
          "data": {
            "text/plain": [
              "<Figure size 1008x504 with 1 Axes>"
            ],
            "image/png": "[encoded data removed]"
          },
          "metadata": {
            "needs_background": "light"
          }
        }
      ],
      "source": [
        "\n",
        "fig2 = plt.figure(figsize=(14,7))\n",
        "plt.plot(epochs, loss, 'r', label=\"Training Loss\")\n",
        "plt.plot(epochs, val_loss, 'b', label=\"Validation Loss\")\n",
        "plt.legend(loc='upper right')\n",
        "plt.xlabel('Epoch')\n",
        "plt.ylabel('Loss')\n",
        "plt.title('Training and validation loss')"
      ]
    },
    {
      "cell_type": "markdown",
      "metadata": {
        "id": "3s_ny5aHu7E8"
      },
      "source": [
        "## Checking performance on Test Data (Out of the sample)"
      ]
    },
    {
      "cell_type": "code",
      "execution_count": null,
      "metadata": {
        "id": "QUTaCfyzz-LH"
      },
      "outputs": [],
      "source": [
        "\n",
        "## Test Performance on Test Data\n",
        "import pandas as pd\n",
        "import numpy as np\n",
        "from tensorflow.keras.preprocessing.image import load_img, img_to_array\n",
        "\n",
        "def preprocess_image(path):\n",
        "    img = load_img(path, target_size = (img_height, img_width))\n",
        "    a = img_to_array(img)\n",
        "    a = np.expand_dims(a, axis = 0)\n",
        "    a /= 255.\n",
        "    return a\n",
        ""
      ]
    },
    {
      "cell_type": "code",
      "execution_count": null,
      "metadata": {
        "id": "AyjMtMkmvFCW"
      },
      "outputs": [],
      "source": [
        "from pathlib import Path\n",
        "from glob import glob\n",
        "test_images_dir = Path('/content/drive/MyDrive/mitdb_data/validation')\n",
        "test_df = pd.read_json('/content/drive/MyDrive/mitdb_data/val.json')\n",
        "\n",
        "test_images =list(test_images_dir.glob(r\"**/*.png\"))\n",
        "Image_Series = pd.Series(test_images,name=\"IMAGE\").astype(str)\n",
        "\n",
        "test_preprocessed_images = np.vstack([preprocess_image(fn) for fn in Image_Series])"
      ]
    },
    {
      "cell_type": "code",
      "execution_count": null,
      "metadata": {
        "colab": {
          "base_uri": "https://localhost:8080/"
        },
        "id": "-7EtYdsD2bJ8",
        "outputId": "104809d2-059a-4526-81b9-58484ea50f90"
      },
      "outputs": [
        {
          "output_type": "stream",
          "name": "stdout",
          "text": [
            "42/42 [==============================] - 21s 489ms/step\n",
            "[3 3 3 3 3 2 3 3 3 3 3 3 3 3 3 3 2 3 3 3 3 3 3 3 3 3 3 3 2 3 5 5 5 4 4 6 6\n",
            " 6 6 2 2 2]\n"
          ]
        }
      ],
      "source": [
        "array = model.predict(test_preprocessed_images, batch_size=1, verbose=1)\n",
        "answer = np.argmax(array, axis=1)\n",
        "print(answer)\n"
      ]
    },
    {
      "cell_type": "markdown",
      "metadata": {
        "id": "dk03ymaVqPjn"
      },
      "source": [
        "## classroom"
      ]
    },
    {
      "cell_type": "code",
      "execution_count": null,
      "metadata": {
        "colab": {
          "base_uri": "https://localhost:8080/"
        },
        "id": "sIbRB-uKKLkG",
        "outputId": "aecb6f31-2dd8-4f51-cebd-4c2ca8e0087e"
      },
      "outputs": [
        {
          "data": {
            "text/plain": [
              "array([[-0.08 ,  0.135],\n",
              "       [-0.08 ,  0.135],\n",
              "       [-0.08 ,  0.135],\n",
              "       ...,\n",
              "       [ 0.92 ,  0.435],\n",
              "       [ 0.625,  0.395],\n",
              "       [ 0.33 ,  0.285]])"
            ]
          },
          "execution_count": 32,
          "metadata": {},
          "output_type": "execute_result"
        }
      ],
      "source": [
        "ecg = record.p_signal"
      ]
    },
    {
      "cell_type": "code",
      "execution_count": null,
      "metadata": {
        "colab": {
          "base_uri": "https://localhost:8080/",
          "height": 265
        },
        "id": "ID54oIhVNv-0",
        "outputId": "4a701cf7-1ad3-489e-c050-cc2f6fbc717c"
      },
      "outputs": [
        {
          "data": {
            "image/png": "[encoded data removed]",
            "text/plain": [
              "<Figure size 432x288 with 1 Axes>"
            ]
          },
          "metadata": {},
          "output_type": "display_data"
        }
      ],
      "source": [
        "import numpy as np\n",
        "import matplotlib.pyplot as plt\n",
        "plt.plot(ecg[:,0])\n",
        "plt.grid('on')"
      ]
    },
    {
      "cell_type": "code",
      "execution_count": null,
      "metadata": {
        "colab": {
          "base_uri": "https://localhost:8080/",
          "height": 265
        },
        "id": "saWGbFcmRpp5",
        "outputId": "931bb3a1-84d9-4a3b-bcab-df9ecca29f81"
      },
      "outputs": [
        {
          "data": {
            "image/png": "[encoded data removed]",
            "text/plain": [
              "<Figure size 432x288 with 1 Axes>"
            ]
          },
          "metadata": {},
          "output_type": "display_data"
        }
      ],
      "source": [
        "from scipy.signal import find_peaks\n",
        "ecg= ecg.flatten()\n",
        "peaks, _ = find_peaks(ecg, threshold = 1)\n",
        "plt.plot(ecg)\n",
        "plt.plot(peaks, ecg[peaks], \"x\")\n",
        "plt.plot(np.zeros_like(ecg), \"--\", color=\"gray\")\n",
        "plt.show()"
      ]
    },
    {
      "cell_type": "code",
      "execution_count": null,
      "metadata": {
        "colab": {
          "base_uri": "https://localhost:8080/",
          "height": 301
        },
        "id": "7BPSzogTw2GH",
        "outputId": "776a053b-72b6-4077-975e-d49449923076"
      },
      "outputs": [
        {
          "data": {
            "text/plain": [
              "Text(0.5, 0, 'Time (s)')"
            ]
          },
          "execution_count": 38,
          "metadata": {},
          "output_type": "execute_result"
        },
        {
          "data": {
            "image/png": "[encoded data removed]",
            "text/plain": [
              "<Figure size 432x288 with 1 Axes>"
            ]
          },
          "metadata": {},
          "output_type": "display_data"
        }
      ],
      "source": [
        "ecg = record.p_signal\n",
        "x = ecg[:,0]\n",
        "fs= 360\n",
        "thr = 0.6\n",
        "rlist =[]\n",
        "L = 3000\n",
        "x2 = x[:L]\n",
        "for i in range(1, len(x2)-1):\n",
        "  if (x2[i-1]<x2[i]) and (x[i]>x2[i+1]):\n",
        "    rlist.append(i)\n",
        "\n",
        "t = np.arange(L)/fs\n",
        "plt.plot(t,x2)\n",
        "plt.plot([a/fs for a in rlist], x2[rlist],'r.')\n",
        "plt.xlabel('Time (s)', fontsize = 16)"
      ]
    },
    {
      "cell_type": "code",
      "execution_count": null,
      "metadata": {
        "id": "Od3RDOc-0BhV"
      },
      "outputs": [],
      "source": [
        "from pathlib import Path\n",
        "def get_records():\n",
        "    \"\"\" Get paths for data in data/mit/ directory \"\"\"\n",
        "    #Download if doesn't exist\n",
        "\n",
        "    # There are 3 files for each record\n",
        "    # *.atr is one of them\n",
        "    paths = glob.glob('/content/mitdb/*.atr')\n",
        "\n",
        "    # Get rid of the extension\n",
        "    paths = [path[:-1] for path in paths]\n",
        "    paths.sort()\n",
        "    return paths"
      ]
    },
    {
      "cell_type": "code",
      "execution_count": null,
      "metadata": {
        "colab": {
          "base_uri": "https://localhost:8080/"
        },
        "id": "rrVexJc_KqhL",
        "outputId": "3660b5c9-7cb2-4a8f-9b72-a4a58c4cf0c0"
      },
      "outputs": [
        {
          "data": {
            "text/plain": [
              "['/content/mitdb/100.at',\n",
              " '/content/mitdb/101.at',\n",
              " '/content/mitdb/102.at',\n",
              " '/content/mitdb/103.at',\n",
              " '/content/mitdb/104.at',\n",
              " '/content/mitdb/105.at',\n",
              " '/content/mitdb/106.at',\n",
              " '/content/mitdb/107.at',\n",
              " '/content/mitdb/108.at',\n",
              " '/content/mitdb/109.at',\n",
              " '/content/mitdb/111.at',\n",
              " '/content/mitdb/112.at',\n",
              " '/content/mitdb/113.at',\n",
              " '/content/mitdb/114.at',\n",
              " '/content/mitdb/115.at',\n",
              " '/content/mitdb/116.at',\n",
              " '/content/mitdb/117.at',\n",
              " '/content/mitdb/118.at',\n",
              " '/content/mitdb/119.at',\n",
              " '/content/mitdb/121.at',\n",
              " '/content/mitdb/122.at',\n",
              " '/content/mitdb/123.at',\n",
              " '/content/mitdb/124.at',\n",
              " '/content/mitdb/200.at',\n",
              " '/content/mitdb/201.at',\n",
              " '/content/mitdb/202.at',\n",
              " '/content/mitdb/203.at',\n",
              " '/content/mitdb/205.at',\n",
              " '/content/mitdb/207.at',\n",
              " '/content/mitdb/208.at',\n",
              " '/content/mitdb/209.at',\n",
              " '/content/mitdb/210.at',\n",
              " '/content/mitdb/212.at',\n",
              " '/content/mitdb/213.at',\n",
              " '/content/mitdb/214.at',\n",
              " '/content/mitdb/215.at',\n",
              " '/content/mitdb/217.at',\n",
              " '/content/mitdb/219.at',\n",
              " '/content/mitdb/220.at',\n",
              " '/content/mitdb/221.at',\n",
              " '/content/mitdb/222.at',\n",
              " '/content/mitdb/223.at',\n",
              " '/content/mitdb/228.at',\n",
              " '/content/mitdb/230.at',\n",
              " '/content/mitdb/231.at',\n",
              " '/content/mitdb/232.at',\n",
              " '/content/mitdb/233.at',\n",
              " '/content/mitdb/234.at']"
            ]
          },
          "execution_count": 21,
          "metadata": {},
          "output_type": "execute_result"
        }
      ],
      "source": [
        "get_records()"
      ]
    },
    {
      "cell_type": "code",
      "execution_count": null,
      "metadata": {
        "colab": {
          "base_uri": "https://localhost:8080/",
          "height": 1000
        },
        "id": "jT_Fwda7LZ6e",
        "outputId": "ea6460bc-d659-41a6-b5ec-650d9538b04f"
      },
      "outputs": [
        {
          "name": "stdout",
          "output_type": "stream",
          "text": [
            "                        0\n",
            "1  /content/mitdb/113\n",
            "Files done: 1/48\n",
            "                        0\n",
            "2  /content/mitdb/212\n",
            "Files done: 2/48\n",
            "                        0\n",
            "3  /content/mitdb/233\n",
            "Files done: 3/48\n",
            "                        0\n",
            "4  /content/mitdb/217\n",
            "Files done: 4/48\n",
            "                        0\n",
            "5  /content/mitdb/121\n",
            "Files done: 5/48\n",
            "                        0\n",
            "6  /content/mitdb/122\n",
            "Files done: 6/48\n",
            "                        0\n",
            "7  /content/mitdb/111\n",
            "Files done: 7/48\n",
            "                        0\n",
            "8  /content/mitdb/106\n",
            "Files done: 8/48\n",
            "                        0\n",
            "9  /content/mitdb/223\n",
            "Files done: 9/48\n",
            "                         0\n",
            "10  /content/mitdb/114\n",
            "Files done: 10/48\n",
            "                         0\n",
            "11  /content/mitdb/201\n",
            "Files done: 11/48\n",
            "                         0\n",
            "12  /content/mitdb/109\n",
            "Files done: 12/48\n",
            "                         0\n",
            "13  /content/mitdb/203\n",
            "Files done: 13/48\n",
            "                         0\n",
            "14  /content/mitdb/200\n",
            "Files done: 14/48\n",
            "                         0\n",
            "15  /content/mitdb/123\n",
            "Files done: 15/48\n",
            "                         0\n",
            "16  /content/mitdb/222\n",
            "Files done: 16/48\n",
            "                         0\n",
            "17  /content/mitdb/107\n",
            "Files done: 17/48\n",
            "                         0\n",
            "18  /content/mitdb/119\n",
            "Files done: 18/48\n",
            "                         0\n",
            "19  /content/mitdb/100\n",
            "Files done: 19/48\n",
            "                         0\n",
            "20  /content/mitdb/104\n",
            "Files done: 20/48\n",
            "                         0\n",
            "21  /content/mitdb/215\n",
            "Files done: 21/48\n",
            "                         0\n",
            "22  /content/mitdb/105\n",
            "Files done: 22/48\n",
            "                         0\n",
            "23  /content/mitdb/231\n",
            "Files done: 23/48\n",
            "                         0\n",
            "24  /content/mitdb/220\n",
            "Files done: 24/48\n",
            "                         0\n",
            "25  /content/mitdb/118\n",
            "Files done: 25/48\n",
            "                         0\n",
            "26  /content/mitdb/102\n",
            "Files done: 26/48\n",
            "                         0\n",
            "27  /content/mitdb/213\n",
            "Files done: 27/48\n",
            "                         0\n",
            "28  /content/mitdb/202\n",
            "Files done: 28/48\n",
            "                         0\n",
            "29  /content/mitdb/207\n",
            "Files done: 29/48\n",
            "                         0\n",
            "30  /content/mitdb/219\n",
            "Files done: 30/48\n",
            "                         0\n",
            "31  /content/mitdb/209\n",
            "Files done: 31/48\n",
            "                         0\n",
            "32  /content/mitdb/210\n",
            "Files done: 32/48\n",
            "                         0\n",
            "33  /content/mitdb/221\n",
            "Files done: 33/48\n",
            "                         0\n",
            "34  /content/mitdb/230\n",
            "Files done: 34/48\n",
            "                         0\n",
            "35  /content/mitdb/205\n",
            "Files done: 35/48\n",
            "                         0\n",
            "36  /content/mitdb/112\n",
            "Files done: 36/48\n",
            "                         0\n",
            "37  /content/mitdb/117\n",
            "Files done: 37/48\n",
            "                         0\n",
            "38  /content/mitdb/228\n",
            "Files done: 38/48\n",
            "                         0\n",
            "39  /content/mitdb/116\n",
            "Files done: 39/48\n",
            "                         0\n",
            "40  /content/mitdb/124\n",
            "Files done: 40/48\n",
            "                         0\n",
            "41  /content/mitdb/232\n",
            "Files done: 41/48\n",
            "                         0\n",
            "42  /content/mitdb/101\n",
            "Files done: 42/48\n",
            "                         0\n",
            "43  /content/mitdb/208\n",
            "Files done: 43/48\n",
            "                         0\n",
            "44  /content/mitdb/108\n",
            "Files done: 44/48\n",
            "                         0\n",
            "45  /content/mitdb/103\n",
            "Files done: 45/48\n",
            "                         0\n",
            "46  /content/mitdb/115\n",
            "Files done: 46/48\n",
            "                         0\n",
            "47  /content/mitdb/234\n",
            "Files done: 47/48\n"
          ]
        },
        {
          "ename": "IndexError",
          "evalue": "ignored",
          "output_type": "error",
          "traceback": [
            "\u001b[0;31m---------------------------------------------------------------------------\u001b[0m",
            "\u001b[0;31mIndexError\u001b[0m                                Traceback (most recent call last)",
            "\u001b[0;32m/usr/local/lib/python3.8/dist-packages/pandas/core/indexing.py\u001b[0m in \u001b[0;36m_get_list_axis\u001b[0;34m(self, key, axis)\u001b[0m\n\u001b[1;32m   1529\u001b[0m         \u001b[0;32mtry\u001b[0m\u001b[0;34m:\u001b[0m\u001b[0;34m\u001b[0m\u001b[0;34m\u001b[0m\u001b[0m\n\u001b[0;32m-> 1530\u001b[0;31m             \u001b[0;32mreturn\u001b[0m \u001b[0mself\u001b[0m\u001b[0;34m.\u001b[0m\u001b[0mobj\u001b[0m\u001b[0;34m.\u001b[0m\u001b[0m_take_with_is_copy\u001b[0m\u001b[0;34m(\u001b[0m\u001b[0mkey\u001b[0m\u001b[0;34m,\u001b[0m \u001b[0maxis\u001b[0m\u001b[0;34m=\u001b[0m\u001b[0maxis\u001b[0m\u001b[0;34m)\u001b[0m\u001b[0;34m\u001b[0m\u001b[0;34m\u001b[0m\u001b[0m\n\u001b[0m\u001b[1;32m   1531\u001b[0m         \u001b[0;32mexcept\u001b[0m \u001b[0mIndexError\u001b[0m \u001b[0;32mas\u001b[0m \u001b[0merr\u001b[0m\u001b[0;34m:\u001b[0m\u001b[0;34m\u001b[0m\u001b[0;34m\u001b[0m\u001b[0m\n",
            "\u001b[0;32m/usr/local/lib/python3.8/dist-packages/pandas/core/generic.py\u001b[0m in \u001b[0;36m_take_with_is_copy\u001b[0;34m(self, indices, axis)\u001b[0m\n\u001b[1;32m   3627\u001b[0m         \"\"\"\n\u001b[0;32m-> 3628\u001b[0;31m         \u001b[0mresult\u001b[0m \u001b[0;34m=\u001b[0m \u001b[0mself\u001b[0m\u001b[0;34m.\u001b[0m\u001b[0mtake\u001b[0m\u001b[0;34m(\u001b[0m\u001b[0mindices\u001b[0m\u001b[0;34m=\u001b[0m\u001b[0mindices\u001b[0m\u001b[0;34m,\u001b[0m \u001b[0maxis\u001b[0m\u001b[0;34m=\u001b[0m\u001b[0maxis\u001b[0m\u001b[0;34m)\u001b[0m\u001b[0;34m\u001b[0m\u001b[0;34m\u001b[0m\u001b[0m\n\u001b[0m\u001b[1;32m   3629\u001b[0m         \u001b[0;31m# Maybe set copy if we didn't actually change the index.\u001b[0m\u001b[0;34m\u001b[0m\u001b[0;34m\u001b[0m\u001b[0;34m\u001b[0m\u001b[0m\n",
            "\u001b[0;32m/usr/local/lib/python3.8/dist-packages/pandas/core/generic.py\u001b[0m in \u001b[0;36mtake\u001b[0;34m(self, indices, axis, is_copy, **kwargs)\u001b[0m\n\u001b[1;32m   3614\u001b[0m \u001b[0;34m\u001b[0m\u001b[0m\n\u001b[0;32m-> 3615\u001b[0;31m         new_data = self._mgr.take(\n\u001b[0m\u001b[1;32m   3616\u001b[0m             \u001b[0mindices\u001b[0m\u001b[0;34m,\u001b[0m \u001b[0maxis\u001b[0m\u001b[0;34m=\u001b[0m\u001b[0mself\u001b[0m\u001b[0;34m.\u001b[0m\u001b[0m_get_block_manager_axis\u001b[0m\u001b[0;34m(\u001b[0m\u001b[0maxis\u001b[0m\u001b[0;34m)\u001b[0m\u001b[0;34m,\u001b[0m \u001b[0mverify\u001b[0m\u001b[0;34m=\u001b[0m\u001b[0;32mTrue\u001b[0m\u001b[0;34m\u001b[0m\u001b[0;34m\u001b[0m\u001b[0m\n",
            "\u001b[0;32m/usr/local/lib/python3.8/dist-packages/pandas/core/internals/managers.py\u001b[0m in \u001b[0;36mtake\u001b[0;34m(self, indexer, axis, verify)\u001b[0m\n\u001b[1;32m    861\u001b[0m         \u001b[0mn\u001b[0m \u001b[0;34m=\u001b[0m \u001b[0mself\u001b[0m\u001b[0;34m.\u001b[0m\u001b[0mshape\u001b[0m\u001b[0;34m[\u001b[0m\u001b[0maxis\u001b[0m\u001b[0;34m]\u001b[0m\u001b[0;34m\u001b[0m\u001b[0;34m\u001b[0m\u001b[0m\n\u001b[0;32m--> 862\u001b[0;31m         \u001b[0mindexer\u001b[0m \u001b[0;34m=\u001b[0m \u001b[0mmaybe_convert_indices\u001b[0m\u001b[0;34m(\u001b[0m\u001b[0mindexer\u001b[0m\u001b[0;34m,\u001b[0m \u001b[0mn\u001b[0m\u001b[0;34m,\u001b[0m \u001b[0mverify\u001b[0m\u001b[0;34m=\u001b[0m\u001b[0mverify\u001b[0m\u001b[0;34m)\u001b[0m\u001b[0;34m\u001b[0m\u001b[0;34m\u001b[0m\u001b[0m\n\u001b[0m\u001b[1;32m    863\u001b[0m \u001b[0;34m\u001b[0m\u001b[0m\n",
            "\u001b[0;32m/usr/local/lib/python3.8/dist-packages/pandas/core/indexers.py\u001b[0m in \u001b[0;36mmaybe_convert_indices\u001b[0;34m(indices, n, verify)\u001b[0m\n\u001b[1;32m    291\u001b[0m         \u001b[0;32mif\u001b[0m \u001b[0mmask\u001b[0m\u001b[0;34m.\u001b[0m\u001b[0many\u001b[0m\u001b[0;34m(\u001b[0m\u001b[0;34m)\u001b[0m\u001b[0;34m:\u001b[0m\u001b[0;34m\u001b[0m\u001b[0;34m\u001b[0m\u001b[0m\n\u001b[0;32m--> 292\u001b[0;31m             \u001b[0;32mraise\u001b[0m \u001b[0mIndexError\u001b[0m\u001b[0;34m(\u001b[0m\u001b[0;34m\"indices are out-of-bounds\"\u001b[0m\u001b[0;34m)\u001b[0m\u001b[0;34m\u001b[0m\u001b[0;34m\u001b[0m\u001b[0m\n\u001b[0m\u001b[1;32m    293\u001b[0m     \u001b[0;32mreturn\u001b[0m \u001b[0mindices\u001b[0m\u001b[0;34m\u001b[0m\u001b[0;34m\u001b[0m\u001b[0m\n",
            "\u001b[0;31mIndexError\u001b[0m: indices are out-of-bounds",
            "\nThe above exception was the direct cause of the following exception:\n",
            "\u001b[0;31mIndexError\u001b[0m                                Traceback (most recent call last)",
            "\u001b[0;32m<ipython-input-32-b507351fdcda>\u001b[0m in \u001b[0;36m<module>\u001b[0;34m\u001b[0m\n\u001b[1;32m     11\u001b[0m \u001b[0;34m\u001b[0m\u001b[0m\n\u001b[1;32m     12\u001b[0m \u001b[0;32mfor\u001b[0m \u001b[0mi\u001b[0m \u001b[0;32min\u001b[0m \u001b[0mrange\u001b[0m\u001b[0;34m(\u001b[0m\u001b[0;36m1\u001b[0m\u001b[0;34m,\u001b[0m\u001b[0mlen\u001b[0m\u001b[0;34m(\u001b[0m\u001b[0mfiles\u001b[0m\u001b[0;34m)\u001b[0m\u001b[0;34m+\u001b[0m\u001b[0;36m1\u001b[0m\u001b[0;34m)\u001b[0m\u001b[0;34m:\u001b[0m\u001b[0;34m\u001b[0m\u001b[0;34m\u001b[0m\u001b[0m\n\u001b[0;32m---> 13\u001b[0;31m     \u001b[0mrecordname\u001b[0m\u001b[0;34m=\u001b[0m\u001b[0mstr\u001b[0m\u001b[0;34m(\u001b[0m\u001b[0mfiles\u001b[0m\u001b[0;34m.\u001b[0m\u001b[0miloc\u001b[0m\u001b[0;34m[\u001b[0m\u001b[0;34m[\u001b[0m\u001b[0mi\u001b[0m\u001b[0;34m]\u001b[0m\u001b[0;34m]\u001b[0m\u001b[0;34m)\u001b[0m\u001b[0;34m\u001b[0m\u001b[0;34m\u001b[0m\u001b[0m\n\u001b[0m\u001b[1;32m     14\u001b[0m     \u001b[0mprint\u001b[0m\u001b[0;34m(\u001b[0m\u001b[0mrecordname\u001b[0m\u001b[0;34m[\u001b[0m\u001b[0;34m:\u001b[0m\u001b[0;34m-\u001b[0m\u001b[0;36m4\u001b[0m\u001b[0;34m]\u001b[0m\u001b[0;34m)\u001b[0m\u001b[0;34m\u001b[0m\u001b[0;34m\u001b[0m\u001b[0m\n\u001b[1;32m     15\u001b[0m     \u001b[0mrecordname_new\u001b[0m\u001b[0;34m=\u001b[0m\u001b[0mrecordname\u001b[0m\u001b[0;34m[\u001b[0m\u001b[0;34m-\u001b[0m\u001b[0;36m13\u001b[0m\u001b[0;34m:\u001b[0m\u001b[0;34m-\u001b[0m\u001b[0;36m4\u001b[0m\u001b[0;34m]\u001b[0m \u001b[0;31m#Extracting just the filename part (will differ from database to database)\u001b[0m\u001b[0;34m\u001b[0m\u001b[0;34m\u001b[0m\u001b[0m\n",
            "\u001b[0;32m/usr/local/lib/python3.8/dist-packages/pandas/core/indexing.py\u001b[0m in \u001b[0;36m__getitem__\u001b[0;34m(self, key)\u001b[0m\n\u001b[1;32m    929\u001b[0m \u001b[0;34m\u001b[0m\u001b[0m\n\u001b[1;32m    930\u001b[0m             \u001b[0mmaybe_callable\u001b[0m \u001b[0;34m=\u001b[0m \u001b[0mcom\u001b[0m\u001b[0;34m.\u001b[0m\u001b[0mapply_if_callable\u001b[0m\u001b[0;34m(\u001b[0m\u001b[0mkey\u001b[0m\u001b[0;34m,\u001b[0m \u001b[0mself\u001b[0m\u001b[0;34m.\u001b[0m\u001b[0mobj\u001b[0m\u001b[0;34m)\u001b[0m\u001b[0;34m\u001b[0m\u001b[0;34m\u001b[0m\u001b[0m\n\u001b[0;32m--> 931\u001b[0;31m             \u001b[0;32mreturn\u001b[0m \u001b[0mself\u001b[0m\u001b[0;34m.\u001b[0m\u001b[0m_getitem_axis\u001b[0m\u001b[0;34m(\u001b[0m\u001b[0mmaybe_callable\u001b[0m\u001b[0;34m,\u001b[0m \u001b[0maxis\u001b[0m\u001b[0;34m=\u001b[0m\u001b[0maxis\u001b[0m\u001b[0;34m)\u001b[0m\u001b[0;34m\u001b[0m\u001b[0;34m\u001b[0m\u001b[0m\n\u001b[0m\u001b[1;32m    932\u001b[0m \u001b[0;34m\u001b[0m\u001b[0m\n\u001b[1;32m    933\u001b[0m     \u001b[0;32mdef\u001b[0m \u001b[0m_is_scalar_access\u001b[0m\u001b[0;34m(\u001b[0m\u001b[0mself\u001b[0m\u001b[0;34m,\u001b[0m \u001b[0mkey\u001b[0m\u001b[0;34m:\u001b[0m \u001b[0mtuple\u001b[0m\u001b[0;34m)\u001b[0m\u001b[0;34m:\u001b[0m\u001b[0;34m\u001b[0m\u001b[0;34m\u001b[0m\u001b[0m\n",
            "\u001b[0;32m/usr/local/lib/python3.8/dist-packages/pandas/core/indexing.py\u001b[0m in \u001b[0;36m_getitem_axis\u001b[0;34m(self, key, axis)\u001b[0m\n\u001b[1;32m   1555\u001b[0m         \u001b[0;31m# a list of integers\u001b[0m\u001b[0;34m\u001b[0m\u001b[0;34m\u001b[0m\u001b[0;34m\u001b[0m\u001b[0m\n\u001b[1;32m   1556\u001b[0m         \u001b[0;32melif\u001b[0m \u001b[0mis_list_like_indexer\u001b[0m\u001b[0;34m(\u001b[0m\u001b[0mkey\u001b[0m\u001b[0;34m)\u001b[0m\u001b[0;34m:\u001b[0m\u001b[0;34m\u001b[0m\u001b[0;34m\u001b[0m\u001b[0m\n\u001b[0;32m-> 1557\u001b[0;31m             \u001b[0;32mreturn\u001b[0m \u001b[0mself\u001b[0m\u001b[0;34m.\u001b[0m\u001b[0m_get_list_axis\u001b[0m\u001b[0;34m(\u001b[0m\u001b[0mkey\u001b[0m\u001b[0;34m,\u001b[0m \u001b[0maxis\u001b[0m\u001b[0;34m=\u001b[0m\u001b[0maxis\u001b[0m\u001b[0;34m)\u001b[0m\u001b[0;34m\u001b[0m\u001b[0;34m\u001b[0m\u001b[0m\n\u001b[0m\u001b[1;32m   1558\u001b[0m \u001b[0;34m\u001b[0m\u001b[0m\n\u001b[1;32m   1559\u001b[0m         \u001b[0;31m# a single integer\u001b[0m\u001b[0;34m\u001b[0m\u001b[0;34m\u001b[0m\u001b[0;34m\u001b[0m\u001b[0m\n",
            "\u001b[0;32m/usr/local/lib/python3.8/dist-packages/pandas/core/indexing.py\u001b[0m in \u001b[0;36m_get_list_axis\u001b[0;34m(self, key, axis)\u001b[0m\n\u001b[1;32m   1531\u001b[0m         \u001b[0;32mexcept\u001b[0m \u001b[0mIndexError\u001b[0m \u001b[0;32mas\u001b[0m \u001b[0merr\u001b[0m\u001b[0;34m:\u001b[0m\u001b[0;34m\u001b[0m\u001b[0;34m\u001b[0m\u001b[0m\n\u001b[1;32m   1532\u001b[0m             \u001b[0;31m# re-raise with different error message\u001b[0m\u001b[0;34m\u001b[0m\u001b[0;34m\u001b[0m\u001b[0;34m\u001b[0m\u001b[0m\n\u001b[0;32m-> 1533\u001b[0;31m             \u001b[0;32mraise\u001b[0m \u001b[0mIndexError\u001b[0m\u001b[0;34m(\u001b[0m\u001b[0;34m\"positional indexers are out-of-bounds\"\u001b[0m\u001b[0;34m)\u001b[0m \u001b[0;32mfrom\u001b[0m \u001b[0merr\u001b[0m\u001b[0;34m\u001b[0m\u001b[0;34m\u001b[0m\u001b[0m\n\u001b[0m\u001b[1;32m   1534\u001b[0m \u001b[0;34m\u001b[0m\u001b[0m\n\u001b[1;32m   1535\u001b[0m     \u001b[0;32mdef\u001b[0m \u001b[0m_getitem_axis\u001b[0m\u001b[0;34m(\u001b[0m\u001b[0mself\u001b[0m\u001b[0;34m,\u001b[0m \u001b[0mkey\u001b[0m\u001b[0;34m,\u001b[0m \u001b[0maxis\u001b[0m\u001b[0;34m:\u001b[0m \u001b[0mint\u001b[0m\u001b[0;34m)\u001b[0m\u001b[0;34m:\u001b[0m\u001b[0;34m\u001b[0m\u001b[0;34m\u001b[0m\u001b[0m\n",
            "\u001b[0;31mIndexError\u001b[0m: positional indexers are out-of-bounds"
          ]
        }
      ],
      "source": [
        "import wfdb #WaveForm-Database package. A library of tools for reading, writing, and processing WFDB signals and annotations.\n",
        "import pandas as pd\n",
        "import numpy as np\n",
        "import glob\n",
        "\n",
        "\n",
        "dat_files=glob.glob('/content/mitdb/*.dat') #Get list of all .dat files in the current folder\n",
        "df=pd.DataFrame(data=dat_files)\n",
        "df.to_csv(\"files_list.csv\",index=False,header=None) #Write the list to a CSV file\n",
        "files=pd.read_csv(\"files_list.csv\",header=None)\n",
        "\n",
        "for i in range(1,len(files)):\n",
        "    recordname=str(files.iloc[[i]])\n",
        "    print(recordname[:-4])\n",
        "    recordname_new=recordname[-13:-4] #Extracting just the filename part (will differ from database to database)\n",
        "    record = wfdb.rdsamp(recordname_new) # rdsamp() returns the signal as a numpy array\n",
        "    record=np.asarray(record[0])\n",
        "    path=recordname_new+\".csv\"\n",
        "    np.savetxt(path,record,delimiter=\",\") #Writing the CSV for each record\n",
        "    print(\"Files done: %s/%s\"% (i,len(files)))\n",
        "\n",
        "print(\"\\nAll files done!\")"
      ]
    },
    {
      "cell_type": "code",
      "execution_count": null,
      "metadata": {
        "colab": {
          "base_uri": "https://localhost:8080/"
        },
        "id": "HvTHJa1R8ygn",
        "outputId": "f69e96a9-9630-4ecc-f700-18a84f3dbe79"
      },
      "outputs": [
        {
          "name": "stdout",
          "output_type": "stream",
          "text": [
            "Looking in indexes: https://pypi.org/simple, https://us-python.pkg.dev/colab-wheels/public/simple/\n",
            "Collecting biosppy\n",
            "  Downloading biosppy-1.0.0-py2.py3-none-any.whl (106 kB)\n",
            "\u001b[K     |████████████████████████████████| 106 kB 20.4 MB/s \n",
            "\u001b[?25hCollecting shortuuid\n",
            "  Downloading shortuuid-1.0.11-py3-none-any.whl (10 kB)\n",
            "Requirement already satisfied: matplotlib in /usr/local/lib/python3.8/dist-packages (from biosppy) (3.2.2)\n",
            "Requirement already satisfied: scikit-learn in /usr/local/lib/python3.8/dist-packages (from biosppy) (1.0.2)\n",
            "Requirement already satisfied: numpy in /usr/local/lib/python3.8/dist-packages (from biosppy) (1.21.6)\n",
            "Requirement already satisfied: scipy in /usr/local/lib/python3.8/dist-packages (from biosppy) (1.7.3)\n",
            "Requirement already satisfied: opencv-python in /usr/local/lib/python3.8/dist-packages (from biosppy) (4.6.0.66)\n",
            "Collecting bidict\n",
            "  Downloading bidict-0.22.0-py3-none-any.whl (36 kB)\n",
            "Requirement already satisfied: six in /usr/local/lib/python3.8/dist-packages (from biosppy) (1.15.0)\n",
            "Requirement already satisfied: h5py in /usr/local/lib/python3.8/dist-packages (from biosppy) (3.1.0)\n",
            "Requirement already satisfied: joblib in /usr/local/lib/python3.8/dist-packages (from biosppy) (1.2.0)\n",
            "Requirement already satisfied: kiwisolver>=1.0.1 in /usr/local/lib/python3.8/dist-packages (from matplotlib->biosppy) (1.4.4)\n",
            "Requirement already satisfied: cycler>=0.10 in /usr/local/lib/python3.8/dist-packages (from matplotlib->biosppy) (0.11.0)\n",
            "Requirement already satisfied: pyparsing!=2.0.4,!=2.1.2,!=2.1.6,>=2.0.1 in /usr/local/lib/python3.8/dist-packages (from matplotlib->biosppy) (3.0.9)\n",
            "Requirement already satisfied: python-dateutil>=2.1 in /usr/local/lib/python3.8/dist-packages (from matplotlib->biosppy) (2.8.2)\n",
            "Requirement already satisfied: threadpoolctl>=2.0.0 in /usr/local/lib/python3.8/dist-packages (from scikit-learn->biosppy) (3.1.0)\n",
            "Installing collected packages: shortuuid, bidict, biosppy\n",
            "Successfully installed bidict-0.22.0 biosppy-1.0.0 shortuuid-1.0.11\n"
          ]
        }
      ],
      "source": [
        "pip install biosppy"
      ]
    },
    {
      "cell_type": "code",
      "execution_count": null,
      "metadata": {
        "colab": {
          "base_uri": "https://localhost:8080/",
          "height": 380
        },
        "id": "ZAaUiON-XcUI",
        "outputId": "e8599ffe-15b7-4c4c-c3e5-ecdfd1b16571"
      },
      "outputs": [
        {
          "ename": "ValueError",
          "evalue": "ignored",
          "output_type": "error",
          "traceback": [
            "\u001b[0;31m---------------------------------------------------------------------------\u001b[0m",
            "\u001b[0;31mValueError\u001b[0m                                Traceback (most recent call last)",
            "\u001b[0;32m<ipython-input-42-a4b96204f03a>\u001b[0m in \u001b[0;36m<module>\u001b[0;34m\u001b[0m\n\u001b[1;32m     11\u001b[0m \u001b[0;34m\u001b[0m\u001b[0m\n\u001b[1;32m     12\u001b[0m \u001b[0;34m\u001b[0m\u001b[0m\n\u001b[0;32m---> 13\u001b[0;31m   \u001b[0mpeaks\u001b[0m \u001b[0;34m=\u001b[0m  \u001b[0mbiosppy\u001b[0m\u001b[0;34m.\u001b[0m\u001b[0msignals\u001b[0m\u001b[0;34m.\u001b[0m\u001b[0mecg\u001b[0m\u001b[0;34m.\u001b[0m\u001b[0mchristov_segmenter\u001b[0m\u001b[0;34m(\u001b[0m\u001b[0msignal\u001b[0m\u001b[0;34m=\u001b[0m\u001b[0mdata\u001b[0m\u001b[0;34m,\u001b[0m \u001b[0msampling_rate\u001b[0m \u001b[0;34m=\u001b[0m \u001b[0;36m200\u001b[0m\u001b[0;34m)\u001b[0m\u001b[0;34m[\u001b[0m\u001b[0;36m0\u001b[0m\u001b[0;34m]\u001b[0m\u001b[0;34m\u001b[0m\u001b[0;34m\u001b[0m\u001b[0m\n\u001b[0m\u001b[1;32m     14\u001b[0m \u001b[0;32mfor\u001b[0m \u001b[0mi\u001b[0m \u001b[0;32min\u001b[0m \u001b[0;34m(\u001b[0m\u001b[0mpeaks\u001b[0m\u001b[0;34m[\u001b[0m\u001b[0;36m1\u001b[0m\u001b[0;34m:\u001b[0m\u001b[0;34m-\u001b[0m\u001b[0;36m1\u001b[0m\u001b[0;34m]\u001b[0m\u001b[0;34m)\u001b[0m\u001b[0;34m:\u001b[0m\u001b[0;34m\u001b[0m\u001b[0;34m\u001b[0m\u001b[0m\n\u001b[1;32m     15\u001b[0m     \u001b[0mdiff1\u001b[0m \u001b[0;34m=\u001b[0m \u001b[0mabs\u001b[0m\u001b[0;34m(\u001b[0m\u001b[0mpeaks\u001b[0m\u001b[0;34m[\u001b[0m\u001b[0mcount\u001b[0m \u001b[0;34m-\u001b[0m \u001b[0;36m1\u001b[0m\u001b[0;34m]\u001b[0m \u001b[0;34m-\u001b[0m \u001b[0mi\u001b[0m\u001b[0;34m)\u001b[0m\u001b[0;34m\u001b[0m\u001b[0;34m\u001b[0m\u001b[0m\n",
            "\u001b[0;32m/usr/local/lib/python3.8/dist-packages/biosppy/signals/ecg.py\u001b[0m in \u001b[0;36mchristov_segmenter\u001b[0;34m(signal, sampling_rate)\u001b[0m\n\u001b[1;32m    624\u001b[0m     \u001b[0mb\u001b[0m \u001b[0;34m=\u001b[0m \u001b[0mnp\u001b[0m\u001b[0;34m.\u001b[0m\u001b[0mones\u001b[0m\u001b[0;34m(\u001b[0m\u001b[0mint\u001b[0m\u001b[0;34m(\u001b[0m\u001b[0;36m0.02\u001b[0m \u001b[0;34m*\u001b[0m \u001b[0msampling_rate\u001b[0m\u001b[0;34m)\u001b[0m\u001b[0;34m)\u001b[0m \u001b[0;34m/\u001b[0m \u001b[0;36m50.0\u001b[0m\u001b[0;34m\u001b[0m\u001b[0;34m\u001b[0m\u001b[0m\n\u001b[1;32m    625\u001b[0m     \u001b[0ma\u001b[0m \u001b[0;34m=\u001b[0m \u001b[0;34m[\u001b[0m\u001b[0;36m1\u001b[0m\u001b[0;34m]\u001b[0m\u001b[0;34m\u001b[0m\u001b[0;34m\u001b[0m\u001b[0m\n\u001b[0;32m--> 626\u001b[0;31m     \u001b[0mX\u001b[0m \u001b[0;34m=\u001b[0m \u001b[0mss\u001b[0m\u001b[0;34m.\u001b[0m\u001b[0mfiltfilt\u001b[0m\u001b[0;34m(\u001b[0m\u001b[0mb\u001b[0m\u001b[0;34m,\u001b[0m \u001b[0ma\u001b[0m\u001b[0;34m,\u001b[0m \u001b[0msignal\u001b[0m\u001b[0;34m)\u001b[0m\u001b[0;34m\u001b[0m\u001b[0;34m\u001b[0m\u001b[0m\n\u001b[0m\u001b[1;32m    627\u001b[0m     \u001b[0;31m# 2. Moving averaging of samples in 28 ms interval for electromyogram\u001b[0m\u001b[0;34m\u001b[0m\u001b[0;34m\u001b[0m\u001b[0;34m\u001b[0m\u001b[0m\n\u001b[1;32m    628\u001b[0m     \u001b[0;31m# noise suppression a filter with first zero at about 35 Hz.\u001b[0m\u001b[0;34m\u001b[0m\u001b[0;34m\u001b[0m\u001b[0;34m\u001b[0m\u001b[0m\n",
            "\u001b[0;32m/usr/local/lib/python3.8/dist-packages/scipy/signal/signaltools.py\u001b[0m in \u001b[0;36mfiltfilt\u001b[0;34m(b, a, x, axis, padtype, padlen, method, irlen)\u001b[0m\n\u001b[1;32m   4052\u001b[0m \u001b[0;34m\u001b[0m\u001b[0m\n\u001b[1;32m   4053\u001b[0m     \u001b[0;31m# method == \"pad\"\u001b[0m\u001b[0;34m\u001b[0m\u001b[0;34m\u001b[0m\u001b[0;34m\u001b[0m\u001b[0m\n\u001b[0;32m-> 4054\u001b[0;31m     edge, ext = _validate_pad(padtype, padlen, x, axis,\n\u001b[0m\u001b[1;32m   4055\u001b[0m                               ntaps=max(len(a), len(b)))\n\u001b[1;32m   4056\u001b[0m \u001b[0;34m\u001b[0m\u001b[0m\n",
            "\u001b[0;32m/usr/local/lib/python3.8/dist-packages/scipy/signal/signaltools.py\u001b[0m in \u001b[0;36m_validate_pad\u001b[0;34m(padtype, padlen, x, axis, ntaps)\u001b[0m\n\u001b[1;32m   4102\u001b[0m     \u001b[0;31m# x's 'axis' dimension must be bigger than edge.\u001b[0m\u001b[0;34m\u001b[0m\u001b[0;34m\u001b[0m\u001b[0;34m\u001b[0m\u001b[0m\n\u001b[1;32m   4103\u001b[0m     \u001b[0;32mif\u001b[0m \u001b[0mx\u001b[0m\u001b[0;34m.\u001b[0m\u001b[0mshape\u001b[0m\u001b[0;34m[\u001b[0m\u001b[0maxis\u001b[0m\u001b[0;34m]\u001b[0m \u001b[0;34m<=\u001b[0m \u001b[0medge\u001b[0m\u001b[0;34m:\u001b[0m\u001b[0;34m\u001b[0m\u001b[0;34m\u001b[0m\u001b[0m\n\u001b[0;32m-> 4104\u001b[0;31m         raise ValueError(\"The length of the input vector x must be greater \"\n\u001b[0m\u001b[1;32m   4105\u001b[0m                          \"than padlen, which is %d.\" % edge)\n\u001b[1;32m   4106\u001b[0m \u001b[0;34m\u001b[0m\u001b[0m\n",
            "\u001b[0;31mValueError\u001b[0m: The length of the input vector x must be greater than padlen, which is 12."
          ]
        }
      ],
      "source": [
        "import biosppy\n",
        "indices = []\n",
        "path = glob.glob('/content/mitdb/*.csv')\n",
        "kernel = np.ones((4,4),np.uint8)\n",
        "signals = []\n",
        "count = 1\n",
        "for i in path:\n",
        "  csv = pd.read_csv(i)\n",
        "  csv_data = csv\n",
        "  data = np.array(csv_data)\n",
        "\n",
        "\n",
        "  peaks =  biosppy.signals.ecg.christov_segmenter(signal=data, sampling_rate = 200)[0]\n",
        "for i in (peaks[1:-1]):\n",
        "    diff1 = abs(peaks[count - 1] - i)\n",
        "    diff2 = abs(peaks[count + 1]- i)\n",
        "    x = peaks[count - 1] + diff1//2\n",
        "    y = peaks[count + 1] - diff2//2\n",
        "    signal = data[x:y]\n",
        "    signals.append(signal)\n",
        "    count += 1\n",
        "    indices.append((x,y))\n"
      ]
    },
    {
      "cell_type": "code",
      "execution_count": null,
      "metadata": {
        "id": "2KR0nqWV8luY"
      },
      "outputs": [],
      "source": [
        "path = glob.glob('/content/mitdb/*.csv')\n",
        "for i in path:\n",
        "  csv = pd.read_csv(i)"
      ]
    },
    {
      "cell_type": "code",
      "execution_count": null,
      "metadata": {
        "colab": {
          "base_uri": "https://localhost:8080/"
        },
        "id": "H_YByRrH9QOJ",
        "outputId": "aff47032-bb79-4a03-8db1-e9b37e32f1e2"
      },
      "outputs": [
        {
          "data": {
            "text/plain": [
              "<bound method NDFrame.head of         -3.750000000000000000e-01  5.000000000000000278e-02\n",
              "0                          -0.375                     0.050\n",
              "1                          -0.375                     0.050\n",
              "2                          -0.375                     0.050\n",
              "3                          -0.375                     0.050\n",
              "4                          -0.375                     0.050\n",
              "...                           ...                       ...\n",
              "649994                     -0.200                     0.100\n",
              "649995                     -0.225                     0.075\n",
              "649996                     -0.235                     0.050\n",
              "649997                     -0.245                     0.055\n",
              "649998                      0.000                     0.000\n",
              "\n",
              "[649999 rows x 2 columns]>"
            ]
          },
          "execution_count": 40,
          "metadata": {},
          "output_type": "execute_result"
        }
      ],
      "source": [
        "csv.head"
      ]
    },
    {
      "cell_type": "code",
      "execution_count": null,
      "metadata": {
        "id": "dpa4Jy6Y91vb"
      },
      "outputs": [],
      "source": [
        "#@title Default title text\n",
        "import wfdb\n",
        "import librosa\n",
        "import numpy as np\n",
        "import tensorflow as tf\n",
        "from sklearn.model_selection import train_test_split\n",
        "\n",
        "# Load ECG data using WFDB Toolbox\n",
        "record = wfdb.rdrecord('filename') # replace 'filename' with the name of your ECG recording\n",
        "signal = record.p_signal[:,0] # extract the first channel\n",
        "\n",
        "# Load ECG annotations using WFDB Toolbox\n",
        "annotations = wfdb.rdann('filename', 'atr') # replace 'filename' with the name of your ECG recording\n",
        "\n",
        "# Define the classes and mapping from annotations to classes\n",
        "classes = {\n",
        "    'N': 0, # Normal beat\n",
        "    'L': 1, # Left bundle branch block beat\n",
        "    'R': 2, # Right bundle branch block beat\n",
        "    'A': 3, # Atrial premature beat\n",
        "    'V': 4, # Premature ventricular contraction\n",
        "}\n",
        "ann2class = {ann: classes.get(ann, 5) for ann in annotations.symbol}\n",
        "\n",
        "# Preprocess the ECG data\n",
        "signal_filt = librosa.effects.preemphasis(signal) # remove baseline drift\n",
        "signal_filt = librosa.effects.trim(signal_filt)[0] # remove silent regions\n",
        "signal_filt = librosa.util.normalize(signal_filt) # normalize to range [-1, 1]\n",
        "\n",
        "# Divide the signal into smaller segments and label each segment\n",
        "window_size = 2 * record.fs # 2-second windows\n",
        "step_size = int(0.5 * window_size) # 50% overlap\n",
        "segments = librosa.util.frame(signal_filt, frame_length=window_size, hop_length=step_size)\n",
        "beat_indices = annotations.sample[np.logical_and(annotations.sample >= window_size//2,\n",
        "                                                  annotations.sample < len(signal_filt) - window_size//2)]\n",
        "labels = [ann2class[annotations.symbol[np.argmax(annotations.sample == beat_idx)]] for beat_idx in beat_indices]\n",
        "segment_labels = [labels[np.argmax(beat_indices <= seg.mean())] for seg in segments.T]\n",
        "\n",
        "# Apply Hamming window to each segment\n",
        "window = np.hamming(window_size)\n",
        "segments_windowed = segments * window\n",
        "\n",
        "# Calculate the magnitude squared of the DFT of each windowed segment\n",
        "segments_spec = np.abs(librosa.stft(segments_windowed, hop_length=step_size, win_length=window_size, window='hamming'))**2\n",
        "\n",
        "# Convert the PSD into a spectrogram\n",
        "spec = librosa.power_to_db(segments_spec, ref=np.max)\n",
        "\n",
        "# Create training and validation datasets\n",
        "X_train, X_test, y_train, y_test = train_test_split(spec, segment_labels, test_size=0.2, random_state=42)\n",
        "\n",
        "# Define the CNN model\n",
        "model = tf.keras.models.Sequential([\n",
        "    tf.keras.layers.InputLayer(input_shape=spec.shape[1:]),\n",
        "    tf.keras.layers.Conv2D(32, kernel_size=(3, 3), activation='relu'),\n",
        "    tf.keras.layers.MaxPooling2D(pool_size=(2, 2)),\n",
        "    tf.keras.layers.Flatten(),\n",
        "    tf.keras.layers.Dense(128, activation='relu'),\n",
        "    tf.keras.layers.Dropout(0.5),\n",
        "    tf.keras.layers.Dense(len(classes), activation='softmax')\n",
        "])\n",
        "\n",
        "# Compile the model\n",
        "model.compile(optimizer='adam\n"
      ]
    }
  ],
  "metadata": {
    "colab": {
      "provenance": [],
      "include_colab_link": true
    },
    "gpuClass": "standard",
    "kernelspec": {
      "display_name": "Python 3",
      "name": "python3"
    },
    "language_info": {
      "name": "python"
    }
  },
  "nbformat": 4,
  "nbformat_minor": 0
}